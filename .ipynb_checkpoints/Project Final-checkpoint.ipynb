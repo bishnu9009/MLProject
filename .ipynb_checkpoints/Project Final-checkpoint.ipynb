{
 "cells": [
  {
   "cell_type": "markdown",
   "id": "7e9ed841",
   "metadata": {},
   "source": [
    "# 19 December 2023 Presentation"
   ]
  },
  {
   "cell_type": "code",
   "execution_count": 1,
   "id": "b65dc6bb",
   "metadata": {},
   "outputs": [],
   "source": [
    "import warnings\n",
    "warnings.ignore_warnings = 1"
   ]
  },
  {
   "cell_type": "code",
   "execution_count": 2,
   "id": "0d44cfa7",
   "metadata": {
    "scrolled": true
   },
   "outputs": [
    {
     "data": {
      "application/javascript": [
       "IPython.notebook.set_autosave_interval(15000)"
      ]
     },
     "metadata": {},
     "output_type": "display_data"
    },
    {
     "name": "stdout",
     "output_type": "stream",
     "text": [
      "Autosaving every 15 seconds\n"
     ]
    }
   ],
   "source": [
    "%autosave 15"
   ]
  },
  {
   "cell_type": "code",
   "execution_count": 3,
   "id": "4b1f4a5a",
   "metadata": {},
   "outputs": [
    {
     "name": "stdout",
     "output_type": "stream",
     "text": [
      "Warnings will be ignored.\n"
     ]
    }
   ],
   "source": [
    "import warnings\n",
    "warnings.filterwarnings('ignore')\n",
    "print(\"Warnings will be ignored.\")"
   ]
  },
  {
   "cell_type": "markdown",
   "id": "426803af",
   "metadata": {},
   "source": [
    "<center><h1>College Placement Prediction using Classification Techniques</h1></center>"
   ]
  },
  {
   "cell_type": "markdown",
   "id": "4172b7b1",
   "metadata": {},
   "source": [
    "#### Import the required library files."
   ]
  },
  {
   "cell_type": "code",
   "execution_count": 4,
   "id": "d8ed2ef8",
   "metadata": {},
   "outputs": [],
   "source": [
    "import pandas as pd\n",
    "import numpy as np\n",
    "import seaborn as sns\n",
    "import matplotlib.pyplot as plt\n",
    "import tkinter as tk\n",
    "from tkinter import *\n",
    "from tkinter import ttk\n",
    "from sklearn.metrics import accuracy_score,f1_score,confusion_matrix,r2_score,classification_report\n",
    "from sklearn.preprocessing import LabelEncoder\n",
    "from sklearn.model_selection import train_test_split\n",
    "from sklearn.linear_model import LogisticRegressionCV\n",
    "from sklearn.neural_network import MLPClassifier\n",
    "from sklearn import svm\n",
    "from sklearn.neighbors import KNeighborsClassifier\n",
    "from sklearn.naive_bayes import GaussianNB\n",
    "from sklearn.tree import DecisionTreeClassifier\n",
    "from sklearn.ensemble import RandomForestClassifier\n",
    "from scipy.stats import zscore\n",
    "from sklearn.model_selection import train_test_split\n",
    "from sklearn.neighbors import KNeighborsClassifier"
   ]
  },
  {
   "cell_type": "markdown",
   "id": "5acd3a0a",
   "metadata": {},
   "source": [
    "#### Importing the dataset with usage of pandas library. The dataset is kept in a DataFrame called as ' df '."
   ]
  },
  {
   "cell_type": "code",
   "execution_count": 5,
   "id": "0fb78e29",
   "metadata": {},
   "outputs": [],
   "source": [
    "df = pd.read_csv(\"placementdata.csv\")"
   ]
  },
  {
   "cell_type": "markdown",
   "id": "4632e556",
   "metadata": {},
   "source": [
    "#### The DataFrame's descriptive Statistics were found."
   ]
  },
  {
   "cell_type": "code",
   "execution_count": 6,
   "id": "73003547",
   "metadata": {
    "scrolled": true
   },
   "outputs": [
    {
     "data": {
      "text/html": [
       "<div>\n",
       "<style scoped>\n",
       "    .dataframe tbody tr th:only-of-type {\n",
       "        vertical-align: middle;\n",
       "    }\n",
       "\n",
       "    .dataframe tbody tr th {\n",
       "        vertical-align: top;\n",
       "    }\n",
       "\n",
       "    .dataframe thead th {\n",
       "        text-align: right;\n",
       "    }\n",
       "</style>\n",
       "<table border=\"1\" class=\"dataframe\">\n",
       "  <thead>\n",
       "    <tr style=\"text-align: right;\">\n",
       "      <th></th>\n",
       "      <th>StudentID</th>\n",
       "      <th>CGPA</th>\n",
       "      <th>Internships</th>\n",
       "      <th>Projects</th>\n",
       "      <th>Workshops/Certifications</th>\n",
       "      <th>AptitudeTestScore</th>\n",
       "      <th>SoftSkillsRating</th>\n",
       "      <th>SSC_Marks</th>\n",
       "      <th>HSC_Marks</th>\n",
       "    </tr>\n",
       "  </thead>\n",
       "  <tbody>\n",
       "    <tr>\n",
       "      <th>count</th>\n",
       "      <td>10000.00000</td>\n",
       "      <td>10000.000000</td>\n",
       "      <td>10000.000000</td>\n",
       "      <td>10000.000000</td>\n",
       "      <td>10000.000000</td>\n",
       "      <td>10000.000000</td>\n",
       "      <td>10000.000000</td>\n",
       "      <td>10000.000000</td>\n",
       "      <td>10000.000000</td>\n",
       "    </tr>\n",
       "    <tr>\n",
       "      <th>mean</th>\n",
       "      <td>5000.50000</td>\n",
       "      <td>7.698010</td>\n",
       "      <td>1.049200</td>\n",
       "      <td>2.026600</td>\n",
       "      <td>1.013200</td>\n",
       "      <td>79.449900</td>\n",
       "      <td>4.323960</td>\n",
       "      <td>69.159400</td>\n",
       "      <td>74.501500</td>\n",
       "    </tr>\n",
       "    <tr>\n",
       "      <th>std</th>\n",
       "      <td>2886.89568</td>\n",
       "      <td>0.640131</td>\n",
       "      <td>0.665901</td>\n",
       "      <td>0.867968</td>\n",
       "      <td>0.904272</td>\n",
       "      <td>8.159997</td>\n",
       "      <td>0.411622</td>\n",
       "      <td>10.430459</td>\n",
       "      <td>8.919527</td>\n",
       "    </tr>\n",
       "    <tr>\n",
       "      <th>min</th>\n",
       "      <td>1.00000</td>\n",
       "      <td>6.500000</td>\n",
       "      <td>0.000000</td>\n",
       "      <td>0.000000</td>\n",
       "      <td>0.000000</td>\n",
       "      <td>60.000000</td>\n",
       "      <td>3.000000</td>\n",
       "      <td>55.000000</td>\n",
       "      <td>57.000000</td>\n",
       "    </tr>\n",
       "    <tr>\n",
       "      <th>25%</th>\n",
       "      <td>2500.75000</td>\n",
       "      <td>7.400000</td>\n",
       "      <td>1.000000</td>\n",
       "      <td>1.000000</td>\n",
       "      <td>0.000000</td>\n",
       "      <td>73.000000</td>\n",
       "      <td>4.000000</td>\n",
       "      <td>59.000000</td>\n",
       "      <td>67.000000</td>\n",
       "    </tr>\n",
       "    <tr>\n",
       "      <th>50%</th>\n",
       "      <td>5000.50000</td>\n",
       "      <td>7.700000</td>\n",
       "      <td>1.000000</td>\n",
       "      <td>2.000000</td>\n",
       "      <td>1.000000</td>\n",
       "      <td>80.000000</td>\n",
       "      <td>4.400000</td>\n",
       "      <td>70.000000</td>\n",
       "      <td>73.000000</td>\n",
       "    </tr>\n",
       "    <tr>\n",
       "      <th>75%</th>\n",
       "      <td>7500.25000</td>\n",
       "      <td>8.200000</td>\n",
       "      <td>1.000000</td>\n",
       "      <td>3.000000</td>\n",
       "      <td>2.000000</td>\n",
       "      <td>87.000000</td>\n",
       "      <td>4.700000</td>\n",
       "      <td>78.000000</td>\n",
       "      <td>83.000000</td>\n",
       "    </tr>\n",
       "    <tr>\n",
       "      <th>max</th>\n",
       "      <td>10000.00000</td>\n",
       "      <td>9.100000</td>\n",
       "      <td>2.000000</td>\n",
       "      <td>3.000000</td>\n",
       "      <td>3.000000</td>\n",
       "      <td>90.000000</td>\n",
       "      <td>4.800000</td>\n",
       "      <td>90.000000</td>\n",
       "      <td>88.000000</td>\n",
       "    </tr>\n",
       "  </tbody>\n",
       "</table>\n",
       "</div>"
      ],
      "text/plain": [
       "         StudentID          CGPA   Internships      Projects  \\\n",
       "count  10000.00000  10000.000000  10000.000000  10000.000000   \n",
       "mean    5000.50000      7.698010      1.049200      2.026600   \n",
       "std     2886.89568      0.640131      0.665901      0.867968   \n",
       "min        1.00000      6.500000      0.000000      0.000000   \n",
       "25%     2500.75000      7.400000      1.000000      1.000000   \n",
       "50%     5000.50000      7.700000      1.000000      2.000000   \n",
       "75%     7500.25000      8.200000      1.000000      3.000000   \n",
       "max    10000.00000      9.100000      2.000000      3.000000   \n",
       "\n",
       "       Workshops/Certifications  AptitudeTestScore  SoftSkillsRating  \\\n",
       "count              10000.000000       10000.000000      10000.000000   \n",
       "mean                   1.013200          79.449900          4.323960   \n",
       "std                    0.904272           8.159997          0.411622   \n",
       "min                    0.000000          60.000000          3.000000   \n",
       "25%                    0.000000          73.000000          4.000000   \n",
       "50%                    1.000000          80.000000          4.400000   \n",
       "75%                    2.000000          87.000000          4.700000   \n",
       "max                    3.000000          90.000000          4.800000   \n",
       "\n",
       "          SSC_Marks     HSC_Marks  \n",
       "count  10000.000000  10000.000000  \n",
       "mean      69.159400     74.501500  \n",
       "std       10.430459      8.919527  \n",
       "min       55.000000     57.000000  \n",
       "25%       59.000000     67.000000  \n",
       "50%       70.000000     73.000000  \n",
       "75%       78.000000     83.000000  \n",
       "max       90.000000     88.000000  "
      ]
     },
     "execution_count": 6,
     "metadata": {},
     "output_type": "execute_result"
    }
   ],
   "source": [
    "df.describe()"
   ]
  },
  {
   "cell_type": "markdown",
   "id": "217915f4",
   "metadata": {},
   "source": [
    "#### The initial 10 entries of the Data was checked."
   ]
  },
  {
   "cell_type": "code",
   "execution_count": 7,
   "id": "5c043776",
   "metadata": {
    "scrolled": false
   },
   "outputs": [
    {
     "data": {
      "text/html": [
       "<div>\n",
       "<style scoped>\n",
       "    .dataframe tbody tr th:only-of-type {\n",
       "        vertical-align: middle;\n",
       "    }\n",
       "\n",
       "    .dataframe tbody tr th {\n",
       "        vertical-align: top;\n",
       "    }\n",
       "\n",
       "    .dataframe thead th {\n",
       "        text-align: right;\n",
       "    }\n",
       "</style>\n",
       "<table border=\"1\" class=\"dataframe\">\n",
       "  <thead>\n",
       "    <tr style=\"text-align: right;\">\n",
       "      <th></th>\n",
       "      <th>StudentID</th>\n",
       "      <th>CGPA</th>\n",
       "      <th>Internships</th>\n",
       "      <th>Projects</th>\n",
       "      <th>Workshops/Certifications</th>\n",
       "      <th>AptitudeTestScore</th>\n",
       "      <th>SoftSkillsRating</th>\n",
       "      <th>ExtracurricularActivities</th>\n",
       "      <th>PlacementTraining</th>\n",
       "      <th>SSC_Marks</th>\n",
       "      <th>HSC_Marks</th>\n",
       "      <th>PlacementStatus</th>\n",
       "    </tr>\n",
       "  </thead>\n",
       "  <tbody>\n",
       "    <tr>\n",
       "      <th>0</th>\n",
       "      <td>1</td>\n",
       "      <td>7.5</td>\n",
       "      <td>1</td>\n",
       "      <td>1</td>\n",
       "      <td>1</td>\n",
       "      <td>65</td>\n",
       "      <td>4.4</td>\n",
       "      <td>No</td>\n",
       "      <td>No</td>\n",
       "      <td>61</td>\n",
       "      <td>79</td>\n",
       "      <td>NotPlaced</td>\n",
       "    </tr>\n",
       "    <tr>\n",
       "      <th>1</th>\n",
       "      <td>2</td>\n",
       "      <td>8.9</td>\n",
       "      <td>0</td>\n",
       "      <td>3</td>\n",
       "      <td>2</td>\n",
       "      <td>90</td>\n",
       "      <td>4.0</td>\n",
       "      <td>Yes</td>\n",
       "      <td>Yes</td>\n",
       "      <td>78</td>\n",
       "      <td>82</td>\n",
       "      <td>Placed</td>\n",
       "    </tr>\n",
       "    <tr>\n",
       "      <th>2</th>\n",
       "      <td>3</td>\n",
       "      <td>7.3</td>\n",
       "      <td>1</td>\n",
       "      <td>2</td>\n",
       "      <td>2</td>\n",
       "      <td>82</td>\n",
       "      <td>4.8</td>\n",
       "      <td>Yes</td>\n",
       "      <td>No</td>\n",
       "      <td>79</td>\n",
       "      <td>80</td>\n",
       "      <td>NotPlaced</td>\n",
       "    </tr>\n",
       "    <tr>\n",
       "      <th>3</th>\n",
       "      <td>4</td>\n",
       "      <td>7.5</td>\n",
       "      <td>1</td>\n",
       "      <td>1</td>\n",
       "      <td>2</td>\n",
       "      <td>85</td>\n",
       "      <td>4.4</td>\n",
       "      <td>Yes</td>\n",
       "      <td>Yes</td>\n",
       "      <td>81</td>\n",
       "      <td>80</td>\n",
       "      <td>Placed</td>\n",
       "    </tr>\n",
       "    <tr>\n",
       "      <th>4</th>\n",
       "      <td>5</td>\n",
       "      <td>8.3</td>\n",
       "      <td>1</td>\n",
       "      <td>2</td>\n",
       "      <td>2</td>\n",
       "      <td>86</td>\n",
       "      <td>4.5</td>\n",
       "      <td>Yes</td>\n",
       "      <td>Yes</td>\n",
       "      <td>74</td>\n",
       "      <td>88</td>\n",
       "      <td>Placed</td>\n",
       "    </tr>\n",
       "    <tr>\n",
       "      <th>5</th>\n",
       "      <td>6</td>\n",
       "      <td>7.0</td>\n",
       "      <td>0</td>\n",
       "      <td>2</td>\n",
       "      <td>2</td>\n",
       "      <td>71</td>\n",
       "      <td>4.2</td>\n",
       "      <td>Yes</td>\n",
       "      <td>No</td>\n",
       "      <td>55</td>\n",
       "      <td>66</td>\n",
       "      <td>NotPlaced</td>\n",
       "    </tr>\n",
       "    <tr>\n",
       "      <th>6</th>\n",
       "      <td>7</td>\n",
       "      <td>7.7</td>\n",
       "      <td>1</td>\n",
       "      <td>1</td>\n",
       "      <td>1</td>\n",
       "      <td>76</td>\n",
       "      <td>4.0</td>\n",
       "      <td>No</td>\n",
       "      <td>No</td>\n",
       "      <td>62</td>\n",
       "      <td>65</td>\n",
       "      <td>NotPlaced</td>\n",
       "    </tr>\n",
       "    <tr>\n",
       "      <th>7</th>\n",
       "      <td>8</td>\n",
       "      <td>7.7</td>\n",
       "      <td>2</td>\n",
       "      <td>1</td>\n",
       "      <td>0</td>\n",
       "      <td>85</td>\n",
       "      <td>3.5</td>\n",
       "      <td>Yes</td>\n",
       "      <td>Yes</td>\n",
       "      <td>59</td>\n",
       "      <td>72</td>\n",
       "      <td>NotPlaced</td>\n",
       "    </tr>\n",
       "    <tr>\n",
       "      <th>8</th>\n",
       "      <td>9</td>\n",
       "      <td>6.5</td>\n",
       "      <td>1</td>\n",
       "      <td>1</td>\n",
       "      <td>0</td>\n",
       "      <td>84</td>\n",
       "      <td>3.9</td>\n",
       "      <td>No</td>\n",
       "      <td>Yes</td>\n",
       "      <td>75</td>\n",
       "      <td>71</td>\n",
       "      <td>NotPlaced</td>\n",
       "    </tr>\n",
       "    <tr>\n",
       "      <th>9</th>\n",
       "      <td>10</td>\n",
       "      <td>7.8</td>\n",
       "      <td>1</td>\n",
       "      <td>3</td>\n",
       "      <td>2</td>\n",
       "      <td>79</td>\n",
       "      <td>4.4</td>\n",
       "      <td>Yes</td>\n",
       "      <td>Yes</td>\n",
       "      <td>85</td>\n",
       "      <td>86</td>\n",
       "      <td>Placed</td>\n",
       "    </tr>\n",
       "  </tbody>\n",
       "</table>\n",
       "</div>"
      ],
      "text/plain": [
       "   StudentID  CGPA  Internships  Projects  Workshops/Certifications  \\\n",
       "0          1   7.5            1         1                         1   \n",
       "1          2   8.9            0         3                         2   \n",
       "2          3   7.3            1         2                         2   \n",
       "3          4   7.5            1         1                         2   \n",
       "4          5   8.3            1         2                         2   \n",
       "5          6   7.0            0         2                         2   \n",
       "6          7   7.7            1         1                         1   \n",
       "7          8   7.7            2         1                         0   \n",
       "8          9   6.5            1         1                         0   \n",
       "9         10   7.8            1         3                         2   \n",
       "\n",
       "   AptitudeTestScore  SoftSkillsRating ExtracurricularActivities  \\\n",
       "0                 65               4.4                        No   \n",
       "1                 90               4.0                       Yes   \n",
       "2                 82               4.8                       Yes   \n",
       "3                 85               4.4                       Yes   \n",
       "4                 86               4.5                       Yes   \n",
       "5                 71               4.2                       Yes   \n",
       "6                 76               4.0                        No   \n",
       "7                 85               3.5                       Yes   \n",
       "8                 84               3.9                        No   \n",
       "9                 79               4.4                       Yes   \n",
       "\n",
       "  PlacementTraining  SSC_Marks  HSC_Marks PlacementStatus  \n",
       "0                No         61         79       NotPlaced  \n",
       "1               Yes         78         82          Placed  \n",
       "2                No         79         80       NotPlaced  \n",
       "3               Yes         81         80          Placed  \n",
       "4               Yes         74         88          Placed  \n",
       "5                No         55         66       NotPlaced  \n",
       "6                No         62         65       NotPlaced  \n",
       "7               Yes         59         72       NotPlaced  \n",
       "8               Yes         75         71       NotPlaced  \n",
       "9               Yes         85         86          Placed  "
      ]
     },
     "execution_count": 7,
     "metadata": {},
     "output_type": "execute_result"
    }
   ],
   "source": [
    "df.head(10)"
   ]
  },
  {
   "cell_type": "markdown",
   "id": "e694c171",
   "metadata": {},
   "source": [
    "#### Column data type was found out and the discrete values were encoded in 0/1 encoding."
   ]
  },
  {
   "cell_type": "code",
   "execution_count": 8,
   "id": "f87a298b",
   "metadata": {
    "scrolled": true
   },
   "outputs": [
    {
     "name": "stdout",
     "output_type": "stream",
     "text": [
      "<class 'pandas.core.frame.DataFrame'>\n",
      "RangeIndex: 10000 entries, 0 to 9999\n",
      "Data columns (total 12 columns):\n",
      " #   Column                     Non-Null Count  Dtype  \n",
      "---  ------                     --------------  -----  \n",
      " 0   StudentID                  10000 non-null  int64  \n",
      " 1   CGPA                       10000 non-null  float64\n",
      " 2   Internships                10000 non-null  int64  \n",
      " 3   Projects                   10000 non-null  int64  \n",
      " 4   Workshops/Certifications   10000 non-null  int64  \n",
      " 5   AptitudeTestScore          10000 non-null  int64  \n",
      " 6   SoftSkillsRating           10000 non-null  float64\n",
      " 7   ExtracurricularActivities  10000 non-null  object \n",
      " 8   PlacementTraining          10000 non-null  object \n",
      " 9   SSC_Marks                  10000 non-null  int64  \n",
      " 10  HSC_Marks                  10000 non-null  int64  \n",
      " 11  PlacementStatus            10000 non-null  object \n",
      "dtypes: float64(2), int64(7), object(3)\n",
      "memory usage: 937.6+ KB\n"
     ]
    }
   ],
   "source": [
    "df.info()"
   ]
  },
  {
   "cell_type": "code",
   "execution_count": 9,
   "id": "c1b7ff77",
   "metadata": {
    "scrolled": true
   },
   "outputs": [
    {
     "name": "stdout",
     "output_type": "stream",
     "text": [
      "The 'StudentID' has unique values : 10000\n",
      "The 'CGPA' has unique values : 27\n",
      "The 'Internships' has unique values : 3\n",
      "The 'Projects' has unique values : 4\n",
      "The 'Workshops/Certifications' has unique values : 4\n",
      "The 'AptitudeTestScore' has unique values : 31\n",
      "The 'SoftSkillsRating' has unique values : 19\n",
      "The 'ExtracurricularActivities' has unique values : 2\n",
      "The 'PlacementTraining' has unique values : 2\n",
      "The 'SSC_Marks' has unique values : 36\n",
      "The 'HSC_Marks' has unique values : 32\n",
      "The 'PlacementStatus' has unique values : 2\n"
     ]
    }
   ],
   "source": [
    "for cols in df:\n",
    "    print(f\"The '{cols}' has unique values : {df[cols].nunique()}\")"
   ]
  },
  {
   "cell_type": "markdown",
   "id": "9242b20b",
   "metadata": {},
   "source": [
    "#### Binary attributes are kept in a 'binary_attributes' list"
   ]
  },
  {
   "cell_type": "code",
   "execution_count": 10,
   "id": "7d660c10",
   "metadata": {},
   "outputs": [],
   "source": [
    "binary_attributes = []\n",
    "for cols in df:\n",
    "    if df[cols].nunique() == 2:\n",
    "        binary_attributes.append(cols)"
   ]
  },
  {
   "cell_type": "code",
   "execution_count": 11,
   "id": "107322fb",
   "metadata": {
    "scrolled": true
   },
   "outputs": [
    {
     "data": {
      "text/plain": [
       "['ExtracurricularActivities', 'PlacementTraining', 'PlacementStatus']"
      ]
     },
     "execution_count": 11,
     "metadata": {},
     "output_type": "execute_result"
    }
   ],
   "source": [
    "binary_attributes"
   ]
  },
  {
   "cell_type": "markdown",
   "id": "695fec28",
   "metadata": {},
   "source": [
    "#### The Binary Attributes were encoded."
   ]
  },
  {
   "cell_type": "code",
   "execution_count": 12,
   "id": "06f14c28",
   "metadata": {},
   "outputs": [],
   "source": [
    "le = LabelEncoder()\n",
    "for col in df.columns:\n",
    "        if df[col].dtype == 'object':\n",
    "            df[col] = le.fit_transform(df[col])"
   ]
  },
  {
   "cell_type": "markdown",
   "id": "a6f67274",
   "metadata": {},
   "source": [
    "#### A new DataFrame was created and normalised with decimal scaling."
   ]
  },
  {
   "cell_type": "code",
   "execution_count": 13,
   "id": "dd94a113",
   "metadata": {},
   "outputs": [],
   "source": [
    "new_df = df.copy()"
   ]
  },
  {
   "cell_type": "code",
   "execution_count": 14,
   "id": "de2a38bd",
   "metadata": {},
   "outputs": [],
   "source": [
    "new_df['CGPA'] = new_df['CGPA']/10\n",
    "new_df['AptitudeTestScore'] = new_df['AptitudeTestScore']/100\n",
    "new_df['SoftSkillsRating'] = new_df['SoftSkillsRating']/10\n",
    "new_df['SSC_Marks'] = new_df['SSC_Marks']/100\n",
    "new_df['HSC_Marks'] = new_df['HSC_Marks']/100"
   ]
  },
  {
   "cell_type": "code",
   "execution_count": 15,
   "id": "ee38d189",
   "metadata": {
    "scrolled": false
   },
   "outputs": [
    {
     "data": {
      "text/html": [
       "<div>\n",
       "<style scoped>\n",
       "    .dataframe tbody tr th:only-of-type {\n",
       "        vertical-align: middle;\n",
       "    }\n",
       "\n",
       "    .dataframe tbody tr th {\n",
       "        vertical-align: top;\n",
       "    }\n",
       "\n",
       "    .dataframe thead th {\n",
       "        text-align: right;\n",
       "    }\n",
       "</style>\n",
       "<table border=\"1\" class=\"dataframe\">\n",
       "  <thead>\n",
       "    <tr style=\"text-align: right;\">\n",
       "      <th></th>\n",
       "      <th>StudentID</th>\n",
       "      <th>CGPA</th>\n",
       "      <th>Internships</th>\n",
       "      <th>Projects</th>\n",
       "      <th>Workshops/Certifications</th>\n",
       "      <th>AptitudeTestScore</th>\n",
       "      <th>SoftSkillsRating</th>\n",
       "      <th>ExtracurricularActivities</th>\n",
       "      <th>PlacementTraining</th>\n",
       "      <th>SSC_Marks</th>\n",
       "      <th>HSC_Marks</th>\n",
       "      <th>PlacementStatus</th>\n",
       "    </tr>\n",
       "  </thead>\n",
       "  <tbody>\n",
       "    <tr>\n",
       "      <th>0</th>\n",
       "      <td>1</td>\n",
       "      <td>7.5</td>\n",
       "      <td>1</td>\n",
       "      <td>1</td>\n",
       "      <td>1</td>\n",
       "      <td>65</td>\n",
       "      <td>4.4</td>\n",
       "      <td>0</td>\n",
       "      <td>0</td>\n",
       "      <td>61</td>\n",
       "      <td>79</td>\n",
       "      <td>0</td>\n",
       "    </tr>\n",
       "    <tr>\n",
       "      <th>1</th>\n",
       "      <td>2</td>\n",
       "      <td>8.9</td>\n",
       "      <td>0</td>\n",
       "      <td>3</td>\n",
       "      <td>2</td>\n",
       "      <td>90</td>\n",
       "      <td>4.0</td>\n",
       "      <td>1</td>\n",
       "      <td>1</td>\n",
       "      <td>78</td>\n",
       "      <td>82</td>\n",
       "      <td>1</td>\n",
       "    </tr>\n",
       "    <tr>\n",
       "      <th>2</th>\n",
       "      <td>3</td>\n",
       "      <td>7.3</td>\n",
       "      <td>1</td>\n",
       "      <td>2</td>\n",
       "      <td>2</td>\n",
       "      <td>82</td>\n",
       "      <td>4.8</td>\n",
       "      <td>1</td>\n",
       "      <td>0</td>\n",
       "      <td>79</td>\n",
       "      <td>80</td>\n",
       "      <td>0</td>\n",
       "    </tr>\n",
       "    <tr>\n",
       "      <th>3</th>\n",
       "      <td>4</td>\n",
       "      <td>7.5</td>\n",
       "      <td>1</td>\n",
       "      <td>1</td>\n",
       "      <td>2</td>\n",
       "      <td>85</td>\n",
       "      <td>4.4</td>\n",
       "      <td>1</td>\n",
       "      <td>1</td>\n",
       "      <td>81</td>\n",
       "      <td>80</td>\n",
       "      <td>1</td>\n",
       "    </tr>\n",
       "    <tr>\n",
       "      <th>4</th>\n",
       "      <td>5</td>\n",
       "      <td>8.3</td>\n",
       "      <td>1</td>\n",
       "      <td>2</td>\n",
       "      <td>2</td>\n",
       "      <td>86</td>\n",
       "      <td>4.5</td>\n",
       "      <td>1</td>\n",
       "      <td>1</td>\n",
       "      <td>74</td>\n",
       "      <td>88</td>\n",
       "      <td>1</td>\n",
       "    </tr>\n",
       "    <tr>\n",
       "      <th>5</th>\n",
       "      <td>6</td>\n",
       "      <td>7.0</td>\n",
       "      <td>0</td>\n",
       "      <td>2</td>\n",
       "      <td>2</td>\n",
       "      <td>71</td>\n",
       "      <td>4.2</td>\n",
       "      <td>1</td>\n",
       "      <td>0</td>\n",
       "      <td>55</td>\n",
       "      <td>66</td>\n",
       "      <td>0</td>\n",
       "    </tr>\n",
       "    <tr>\n",
       "      <th>6</th>\n",
       "      <td>7</td>\n",
       "      <td>7.7</td>\n",
       "      <td>1</td>\n",
       "      <td>1</td>\n",
       "      <td>1</td>\n",
       "      <td>76</td>\n",
       "      <td>4.0</td>\n",
       "      <td>0</td>\n",
       "      <td>0</td>\n",
       "      <td>62</td>\n",
       "      <td>65</td>\n",
       "      <td>0</td>\n",
       "    </tr>\n",
       "    <tr>\n",
       "      <th>7</th>\n",
       "      <td>8</td>\n",
       "      <td>7.7</td>\n",
       "      <td>2</td>\n",
       "      <td>1</td>\n",
       "      <td>0</td>\n",
       "      <td>85</td>\n",
       "      <td>3.5</td>\n",
       "      <td>1</td>\n",
       "      <td>1</td>\n",
       "      <td>59</td>\n",
       "      <td>72</td>\n",
       "      <td>0</td>\n",
       "    </tr>\n",
       "    <tr>\n",
       "      <th>8</th>\n",
       "      <td>9</td>\n",
       "      <td>6.5</td>\n",
       "      <td>1</td>\n",
       "      <td>1</td>\n",
       "      <td>0</td>\n",
       "      <td>84</td>\n",
       "      <td>3.9</td>\n",
       "      <td>0</td>\n",
       "      <td>1</td>\n",
       "      <td>75</td>\n",
       "      <td>71</td>\n",
       "      <td>0</td>\n",
       "    </tr>\n",
       "    <tr>\n",
       "      <th>9</th>\n",
       "      <td>10</td>\n",
       "      <td>7.8</td>\n",
       "      <td>1</td>\n",
       "      <td>3</td>\n",
       "      <td>2</td>\n",
       "      <td>79</td>\n",
       "      <td>4.4</td>\n",
       "      <td>1</td>\n",
       "      <td>1</td>\n",
       "      <td>85</td>\n",
       "      <td>86</td>\n",
       "      <td>1</td>\n",
       "    </tr>\n",
       "  </tbody>\n",
       "</table>\n",
       "</div>"
      ],
      "text/plain": [
       "   StudentID  CGPA  Internships  Projects  Workshops/Certifications  \\\n",
       "0          1   7.5            1         1                         1   \n",
       "1          2   8.9            0         3                         2   \n",
       "2          3   7.3            1         2                         2   \n",
       "3          4   7.5            1         1                         2   \n",
       "4          5   8.3            1         2                         2   \n",
       "5          6   7.0            0         2                         2   \n",
       "6          7   7.7            1         1                         1   \n",
       "7          8   7.7            2         1                         0   \n",
       "8          9   6.5            1         1                         0   \n",
       "9         10   7.8            1         3                         2   \n",
       "\n",
       "   AptitudeTestScore  SoftSkillsRating  ExtracurricularActivities  \\\n",
       "0                 65               4.4                          0   \n",
       "1                 90               4.0                          1   \n",
       "2                 82               4.8                          1   \n",
       "3                 85               4.4                          1   \n",
       "4                 86               4.5                          1   \n",
       "5                 71               4.2                          1   \n",
       "6                 76               4.0                          0   \n",
       "7                 85               3.5                          1   \n",
       "8                 84               3.9                          0   \n",
       "9                 79               4.4                          1   \n",
       "\n",
       "   PlacementTraining  SSC_Marks  HSC_Marks  PlacementStatus  \n",
       "0                  0         61         79                0  \n",
       "1                  1         78         82                1  \n",
       "2                  0         79         80                0  \n",
       "3                  1         81         80                1  \n",
       "4                  1         74         88                1  \n",
       "5                  0         55         66                0  \n",
       "6                  0         62         65                0  \n",
       "7                  1         59         72                0  \n",
       "8                  1         75         71                0  \n",
       "9                  1         85         86                1  "
      ]
     },
     "metadata": {},
     "output_type": "display_data"
    },
    {
     "data": {
      "text/html": [
       "<div>\n",
       "<style scoped>\n",
       "    .dataframe tbody tr th:only-of-type {\n",
       "        vertical-align: middle;\n",
       "    }\n",
       "\n",
       "    .dataframe tbody tr th {\n",
       "        vertical-align: top;\n",
       "    }\n",
       "\n",
       "    .dataframe thead th {\n",
       "        text-align: right;\n",
       "    }\n",
       "</style>\n",
       "<table border=\"1\" class=\"dataframe\">\n",
       "  <thead>\n",
       "    <tr style=\"text-align: right;\">\n",
       "      <th></th>\n",
       "      <th>StudentID</th>\n",
       "      <th>CGPA</th>\n",
       "      <th>Internships</th>\n",
       "      <th>Projects</th>\n",
       "      <th>Workshops/Certifications</th>\n",
       "      <th>AptitudeTestScore</th>\n",
       "      <th>SoftSkillsRating</th>\n",
       "      <th>ExtracurricularActivities</th>\n",
       "      <th>PlacementTraining</th>\n",
       "      <th>SSC_Marks</th>\n",
       "      <th>HSC_Marks</th>\n",
       "      <th>PlacementStatus</th>\n",
       "    </tr>\n",
       "  </thead>\n",
       "  <tbody>\n",
       "    <tr>\n",
       "      <th>0</th>\n",
       "      <td>1</td>\n",
       "      <td>0.75</td>\n",
       "      <td>1</td>\n",
       "      <td>1</td>\n",
       "      <td>1</td>\n",
       "      <td>0.65</td>\n",
       "      <td>0.44</td>\n",
       "      <td>0</td>\n",
       "      <td>0</td>\n",
       "      <td>0.61</td>\n",
       "      <td>0.79</td>\n",
       "      <td>0</td>\n",
       "    </tr>\n",
       "    <tr>\n",
       "      <th>1</th>\n",
       "      <td>2</td>\n",
       "      <td>0.89</td>\n",
       "      <td>0</td>\n",
       "      <td>3</td>\n",
       "      <td>2</td>\n",
       "      <td>0.90</td>\n",
       "      <td>0.40</td>\n",
       "      <td>1</td>\n",
       "      <td>1</td>\n",
       "      <td>0.78</td>\n",
       "      <td>0.82</td>\n",
       "      <td>1</td>\n",
       "    </tr>\n",
       "    <tr>\n",
       "      <th>2</th>\n",
       "      <td>3</td>\n",
       "      <td>0.73</td>\n",
       "      <td>1</td>\n",
       "      <td>2</td>\n",
       "      <td>2</td>\n",
       "      <td>0.82</td>\n",
       "      <td>0.48</td>\n",
       "      <td>1</td>\n",
       "      <td>0</td>\n",
       "      <td>0.79</td>\n",
       "      <td>0.80</td>\n",
       "      <td>0</td>\n",
       "    </tr>\n",
       "    <tr>\n",
       "      <th>3</th>\n",
       "      <td>4</td>\n",
       "      <td>0.75</td>\n",
       "      <td>1</td>\n",
       "      <td>1</td>\n",
       "      <td>2</td>\n",
       "      <td>0.85</td>\n",
       "      <td>0.44</td>\n",
       "      <td>1</td>\n",
       "      <td>1</td>\n",
       "      <td>0.81</td>\n",
       "      <td>0.80</td>\n",
       "      <td>1</td>\n",
       "    </tr>\n",
       "    <tr>\n",
       "      <th>4</th>\n",
       "      <td>5</td>\n",
       "      <td>0.83</td>\n",
       "      <td>1</td>\n",
       "      <td>2</td>\n",
       "      <td>2</td>\n",
       "      <td>0.86</td>\n",
       "      <td>0.45</td>\n",
       "      <td>1</td>\n",
       "      <td>1</td>\n",
       "      <td>0.74</td>\n",
       "      <td>0.88</td>\n",
       "      <td>1</td>\n",
       "    </tr>\n",
       "    <tr>\n",
       "      <th>5</th>\n",
       "      <td>6</td>\n",
       "      <td>0.70</td>\n",
       "      <td>0</td>\n",
       "      <td>2</td>\n",
       "      <td>2</td>\n",
       "      <td>0.71</td>\n",
       "      <td>0.42</td>\n",
       "      <td>1</td>\n",
       "      <td>0</td>\n",
       "      <td>0.55</td>\n",
       "      <td>0.66</td>\n",
       "      <td>0</td>\n",
       "    </tr>\n",
       "    <tr>\n",
       "      <th>6</th>\n",
       "      <td>7</td>\n",
       "      <td>0.77</td>\n",
       "      <td>1</td>\n",
       "      <td>1</td>\n",
       "      <td>1</td>\n",
       "      <td>0.76</td>\n",
       "      <td>0.40</td>\n",
       "      <td>0</td>\n",
       "      <td>0</td>\n",
       "      <td>0.62</td>\n",
       "      <td>0.65</td>\n",
       "      <td>0</td>\n",
       "    </tr>\n",
       "    <tr>\n",
       "      <th>7</th>\n",
       "      <td>8</td>\n",
       "      <td>0.77</td>\n",
       "      <td>2</td>\n",
       "      <td>1</td>\n",
       "      <td>0</td>\n",
       "      <td>0.85</td>\n",
       "      <td>0.35</td>\n",
       "      <td>1</td>\n",
       "      <td>1</td>\n",
       "      <td>0.59</td>\n",
       "      <td>0.72</td>\n",
       "      <td>0</td>\n",
       "    </tr>\n",
       "    <tr>\n",
       "      <th>8</th>\n",
       "      <td>9</td>\n",
       "      <td>0.65</td>\n",
       "      <td>1</td>\n",
       "      <td>1</td>\n",
       "      <td>0</td>\n",
       "      <td>0.84</td>\n",
       "      <td>0.39</td>\n",
       "      <td>0</td>\n",
       "      <td>1</td>\n",
       "      <td>0.75</td>\n",
       "      <td>0.71</td>\n",
       "      <td>0</td>\n",
       "    </tr>\n",
       "    <tr>\n",
       "      <th>9</th>\n",
       "      <td>10</td>\n",
       "      <td>0.78</td>\n",
       "      <td>1</td>\n",
       "      <td>3</td>\n",
       "      <td>2</td>\n",
       "      <td>0.79</td>\n",
       "      <td>0.44</td>\n",
       "      <td>1</td>\n",
       "      <td>1</td>\n",
       "      <td>0.85</td>\n",
       "      <td>0.86</td>\n",
       "      <td>1</td>\n",
       "    </tr>\n",
       "  </tbody>\n",
       "</table>\n",
       "</div>"
      ],
      "text/plain": [
       "   StudentID  CGPA  Internships  Projects  Workshops/Certifications  \\\n",
       "0          1  0.75            1         1                         1   \n",
       "1          2  0.89            0         3                         2   \n",
       "2          3  0.73            1         2                         2   \n",
       "3          4  0.75            1         1                         2   \n",
       "4          5  0.83            1         2                         2   \n",
       "5          6  0.70            0         2                         2   \n",
       "6          7  0.77            1         1                         1   \n",
       "7          8  0.77            2         1                         0   \n",
       "8          9  0.65            1         1                         0   \n",
       "9         10  0.78            1         3                         2   \n",
       "\n",
       "   AptitudeTestScore  SoftSkillsRating  ExtracurricularActivities  \\\n",
       "0               0.65              0.44                          0   \n",
       "1               0.90              0.40                          1   \n",
       "2               0.82              0.48                          1   \n",
       "3               0.85              0.44                          1   \n",
       "4               0.86              0.45                          1   \n",
       "5               0.71              0.42                          1   \n",
       "6               0.76              0.40                          0   \n",
       "7               0.85              0.35                          1   \n",
       "8               0.84              0.39                          0   \n",
       "9               0.79              0.44                          1   \n",
       "\n",
       "   PlacementTraining  SSC_Marks  HSC_Marks  PlacementStatus  \n",
       "0                  0       0.61       0.79                0  \n",
       "1                  1       0.78       0.82                1  \n",
       "2                  0       0.79       0.80                0  \n",
       "3                  1       0.81       0.80                1  \n",
       "4                  1       0.74       0.88                1  \n",
       "5                  0       0.55       0.66                0  \n",
       "6                  0       0.62       0.65                0  \n",
       "7                  1       0.59       0.72                0  \n",
       "8                  1       0.75       0.71                0  \n",
       "9                  1       0.85       0.86                1  "
      ]
     },
     "metadata": {},
     "output_type": "display_data"
    }
   ],
   "source": [
    "display(df.head(10))\n",
    "display(new_df.head(10))"
   ]
  },
  {
   "cell_type": "markdown",
   "id": "062aea5c",
   "metadata": {},
   "source": [
    "### The DataFrame was distributed into X and Y DataFrames"
   ]
  },
  {
   "cell_type": "code",
   "execution_count": 16,
   "id": "991e795f",
   "metadata": {
    "scrolled": true
   },
   "outputs": [],
   "source": [
    "X = df\n",
    "X = X.drop(\"StudentID\",axis = 1)\n",
    "X = X.drop(\"PlacementStatus\",axis = 1)\n",
    "\n",
    "X_norm = new_df\n",
    "X_norm = X_norm.drop(\"StudentID\",axis = 1)\n",
    "X_norm = X_norm.drop(\"PlacementStatus\",axis = 1)"
   ]
  },
  {
   "cell_type": "code",
   "execution_count": 17,
   "id": "560bc791",
   "metadata": {
    "scrolled": true
   },
   "outputs": [
    {
     "data": {
      "text/html": [
       "<div>\n",
       "<style scoped>\n",
       "    .dataframe tbody tr th:only-of-type {\n",
       "        vertical-align: middle;\n",
       "    }\n",
       "\n",
       "    .dataframe tbody tr th {\n",
       "        vertical-align: top;\n",
       "    }\n",
       "\n",
       "    .dataframe thead th {\n",
       "        text-align: right;\n",
       "    }\n",
       "</style>\n",
       "<table border=\"1\" class=\"dataframe\">\n",
       "  <thead>\n",
       "    <tr style=\"text-align: right;\">\n",
       "      <th></th>\n",
       "      <th>CGPA</th>\n",
       "      <th>Internships</th>\n",
       "      <th>Projects</th>\n",
       "      <th>Workshops/Certifications</th>\n",
       "      <th>AptitudeTestScore</th>\n",
       "      <th>SoftSkillsRating</th>\n",
       "      <th>ExtracurricularActivities</th>\n",
       "      <th>PlacementTraining</th>\n",
       "      <th>SSC_Marks</th>\n",
       "      <th>HSC_Marks</th>\n",
       "    </tr>\n",
       "  </thead>\n",
       "  <tbody>\n",
       "    <tr>\n",
       "      <th>0</th>\n",
       "      <td>7.5</td>\n",
       "      <td>1</td>\n",
       "      <td>1</td>\n",
       "      <td>1</td>\n",
       "      <td>65</td>\n",
       "      <td>4.4</td>\n",
       "      <td>0</td>\n",
       "      <td>0</td>\n",
       "      <td>61</td>\n",
       "      <td>79</td>\n",
       "    </tr>\n",
       "    <tr>\n",
       "      <th>1</th>\n",
       "      <td>8.9</td>\n",
       "      <td>0</td>\n",
       "      <td>3</td>\n",
       "      <td>2</td>\n",
       "      <td>90</td>\n",
       "      <td>4.0</td>\n",
       "      <td>1</td>\n",
       "      <td>1</td>\n",
       "      <td>78</td>\n",
       "      <td>82</td>\n",
       "    </tr>\n",
       "    <tr>\n",
       "      <th>2</th>\n",
       "      <td>7.3</td>\n",
       "      <td>1</td>\n",
       "      <td>2</td>\n",
       "      <td>2</td>\n",
       "      <td>82</td>\n",
       "      <td>4.8</td>\n",
       "      <td>1</td>\n",
       "      <td>0</td>\n",
       "      <td>79</td>\n",
       "      <td>80</td>\n",
       "    </tr>\n",
       "    <tr>\n",
       "      <th>3</th>\n",
       "      <td>7.5</td>\n",
       "      <td>1</td>\n",
       "      <td>1</td>\n",
       "      <td>2</td>\n",
       "      <td>85</td>\n",
       "      <td>4.4</td>\n",
       "      <td>1</td>\n",
       "      <td>1</td>\n",
       "      <td>81</td>\n",
       "      <td>80</td>\n",
       "    </tr>\n",
       "    <tr>\n",
       "      <th>4</th>\n",
       "      <td>8.3</td>\n",
       "      <td>1</td>\n",
       "      <td>2</td>\n",
       "      <td>2</td>\n",
       "      <td>86</td>\n",
       "      <td>4.5</td>\n",
       "      <td>1</td>\n",
       "      <td>1</td>\n",
       "      <td>74</td>\n",
       "      <td>88</td>\n",
       "    </tr>\n",
       "  </tbody>\n",
       "</table>\n",
       "</div>"
      ],
      "text/plain": [
       "   CGPA  Internships  Projects  Workshops/Certifications  AptitudeTestScore  \\\n",
       "0   7.5            1         1                         1                 65   \n",
       "1   8.9            0         3                         2                 90   \n",
       "2   7.3            1         2                         2                 82   \n",
       "3   7.5            1         1                         2                 85   \n",
       "4   8.3            1         2                         2                 86   \n",
       "\n",
       "   SoftSkillsRating  ExtracurricularActivities  PlacementTraining  SSC_Marks  \\\n",
       "0               4.4                          0                  0         61   \n",
       "1               4.0                          1                  1         78   \n",
       "2               4.8                          1                  0         79   \n",
       "3               4.4                          1                  1         81   \n",
       "4               4.5                          1                  1         74   \n",
       "\n",
       "   HSC_Marks  \n",
       "0         79  \n",
       "1         82  \n",
       "2         80  \n",
       "3         80  \n",
       "4         88  "
      ]
     },
     "metadata": {},
     "output_type": "display_data"
    },
    {
     "data": {
      "text/html": [
       "<div>\n",
       "<style scoped>\n",
       "    .dataframe tbody tr th:only-of-type {\n",
       "        vertical-align: middle;\n",
       "    }\n",
       "\n",
       "    .dataframe tbody tr th {\n",
       "        vertical-align: top;\n",
       "    }\n",
       "\n",
       "    .dataframe thead th {\n",
       "        text-align: right;\n",
       "    }\n",
       "</style>\n",
       "<table border=\"1\" class=\"dataframe\">\n",
       "  <thead>\n",
       "    <tr style=\"text-align: right;\">\n",
       "      <th></th>\n",
       "      <th>CGPA</th>\n",
       "      <th>Internships</th>\n",
       "      <th>Projects</th>\n",
       "      <th>Workshops/Certifications</th>\n",
       "      <th>AptitudeTestScore</th>\n",
       "      <th>SoftSkillsRating</th>\n",
       "      <th>ExtracurricularActivities</th>\n",
       "      <th>PlacementTraining</th>\n",
       "      <th>SSC_Marks</th>\n",
       "      <th>HSC_Marks</th>\n",
       "    </tr>\n",
       "  </thead>\n",
       "  <tbody>\n",
       "    <tr>\n",
       "      <th>0</th>\n",
       "      <td>0.75</td>\n",
       "      <td>1</td>\n",
       "      <td>1</td>\n",
       "      <td>1</td>\n",
       "      <td>0.65</td>\n",
       "      <td>0.44</td>\n",
       "      <td>0</td>\n",
       "      <td>0</td>\n",
       "      <td>0.61</td>\n",
       "      <td>0.79</td>\n",
       "    </tr>\n",
       "    <tr>\n",
       "      <th>1</th>\n",
       "      <td>0.89</td>\n",
       "      <td>0</td>\n",
       "      <td>3</td>\n",
       "      <td>2</td>\n",
       "      <td>0.90</td>\n",
       "      <td>0.40</td>\n",
       "      <td>1</td>\n",
       "      <td>1</td>\n",
       "      <td>0.78</td>\n",
       "      <td>0.82</td>\n",
       "    </tr>\n",
       "    <tr>\n",
       "      <th>2</th>\n",
       "      <td>0.73</td>\n",
       "      <td>1</td>\n",
       "      <td>2</td>\n",
       "      <td>2</td>\n",
       "      <td>0.82</td>\n",
       "      <td>0.48</td>\n",
       "      <td>1</td>\n",
       "      <td>0</td>\n",
       "      <td>0.79</td>\n",
       "      <td>0.80</td>\n",
       "    </tr>\n",
       "    <tr>\n",
       "      <th>3</th>\n",
       "      <td>0.75</td>\n",
       "      <td>1</td>\n",
       "      <td>1</td>\n",
       "      <td>2</td>\n",
       "      <td>0.85</td>\n",
       "      <td>0.44</td>\n",
       "      <td>1</td>\n",
       "      <td>1</td>\n",
       "      <td>0.81</td>\n",
       "      <td>0.80</td>\n",
       "    </tr>\n",
       "    <tr>\n",
       "      <th>4</th>\n",
       "      <td>0.83</td>\n",
       "      <td>1</td>\n",
       "      <td>2</td>\n",
       "      <td>2</td>\n",
       "      <td>0.86</td>\n",
       "      <td>0.45</td>\n",
       "      <td>1</td>\n",
       "      <td>1</td>\n",
       "      <td>0.74</td>\n",
       "      <td>0.88</td>\n",
       "    </tr>\n",
       "  </tbody>\n",
       "</table>\n",
       "</div>"
      ],
      "text/plain": [
       "   CGPA  Internships  Projects  Workshops/Certifications  AptitudeTestScore  \\\n",
       "0  0.75            1         1                         1               0.65   \n",
       "1  0.89            0         3                         2               0.90   \n",
       "2  0.73            1         2                         2               0.82   \n",
       "3  0.75            1         1                         2               0.85   \n",
       "4  0.83            1         2                         2               0.86   \n",
       "\n",
       "   SoftSkillsRating  ExtracurricularActivities  PlacementTraining  SSC_Marks  \\\n",
       "0              0.44                          0                  0       0.61   \n",
       "1              0.40                          1                  1       0.78   \n",
       "2              0.48                          1                  0       0.79   \n",
       "3              0.44                          1                  1       0.81   \n",
       "4              0.45                          1                  1       0.74   \n",
       "\n",
       "   HSC_Marks  \n",
       "0       0.79  \n",
       "1       0.82  \n",
       "2       0.80  \n",
       "3       0.80  \n",
       "4       0.88  "
      ]
     },
     "metadata": {},
     "output_type": "display_data"
    }
   ],
   "source": [
    "display(X.head())\n",
    "display(X_norm.head())"
   ]
  },
  {
   "cell_type": "code",
   "execution_count": 18,
   "id": "d8d38428",
   "metadata": {},
   "outputs": [],
   "source": [
    "Y = df[\"PlacementStatus\"]"
   ]
  },
  {
   "cell_type": "code",
   "execution_count": 19,
   "id": "83a8186e",
   "metadata": {
    "scrolled": false
   },
   "outputs": [
    {
     "data": {
      "text/plain": [
       "0    0\n",
       "1    1\n",
       "2    0\n",
       "3    1\n",
       "4    1\n",
       "5    0\n",
       "6    0\n",
       "7    0\n",
       "8    0\n",
       "9    1\n",
       "Name: PlacementStatus, dtype: int32"
      ]
     },
     "metadata": {},
     "output_type": "display_data"
    }
   ],
   "source": [
    "display(Y.head(10))"
   ]
  },
  {
   "cell_type": "markdown",
   "id": "587d6de8",
   "metadata": {},
   "source": [
    "# Data Cleaning & Analysis"
   ]
  },
  {
   "cell_type": "code",
   "execution_count": 20,
   "id": "5af2a609",
   "metadata": {
    "scrolled": false
   },
   "outputs": [
    {
     "data": {
      "text/plain": [
       "<Axes: >"
      ]
     },
     "execution_count": 20,
     "metadata": {},
     "output_type": "execute_result"
    },
    {
     "data": {
      "image/png": "[encoded data removed]",
      "text/plain": [
       "<Figure size 640x480 with 2 Axes>"
      ]
     },
     "metadata": {},
     "output_type": "display_data"
    }
   ],
   "source": [
    "sns.heatmap(df.corr())"
   ]
  },
  {
   "cell_type": "markdown",
   "id": "3c5c6c8f",
   "metadata": {},
   "source": [
    "#### The above heatmap suggests that the atributes are fairly non-correlated. Hence we do not require to perform any feature selection."
   ]
  },
  {
   "cell_type": "markdown",
   "id": "9ab9cce9",
   "metadata": {},
   "source": [
    "## Checking for Missing Values"
   ]
  },
  {
   "cell_type": "code",
   "execution_count": 21,
   "id": "64dd2936",
   "metadata": {
    "scrolled": true
   },
   "outputs": [
    {
     "name": "stdout",
     "output_type": "stream",
     "text": [
      "Missing Values: \n",
      "\n",
      " StudentID                    0\n",
      "CGPA                         0\n",
      "Internships                  0\n",
      "Projects                     0\n",
      "Workshops/Certifications     0\n",
      "AptitudeTestScore            0\n",
      "SoftSkillsRating             0\n",
      "ExtracurricularActivities    0\n",
      "PlacementTraining            0\n",
      "SSC_Marks                    0\n",
      "HSC_Marks                    0\n",
      "PlacementStatus              0\n",
      "dtype: int64\n"
     ]
    }
   ],
   "source": [
    "missing_values = df.isnull().sum()\n",
    "print(\"Missing Values: \\n\\n\", missing_values)"
   ]
  },
  {
   "cell_type": "markdown",
   "id": "8ca08c7b",
   "metadata": {},
   "source": [
    "#### The above suggests that our dataset doesnot contain any missing values and hence we do no require to perform any missing value treatment."
   ]
  },
  {
   "cell_type": "markdown",
   "id": "c28dc820",
   "metadata": {},
   "source": [
    "## Checking for Duplicate Rows"
   ]
  },
  {
   "cell_type": "code",
   "execution_count": 22,
   "id": "c6308ba5",
   "metadata": {},
   "outputs": [
    {
     "name": "stdout",
     "output_type": "stream",
     "text": [
      "Duplicate Rows:\n",
      " Empty DataFrame\n",
      "Columns: [StudentID, CGPA, Internships, Projects, Workshops/Certifications, AptitudeTestScore, SoftSkillsRating, ExtracurricularActivities, PlacementTraining, SSC_Marks, HSC_Marks, PlacementStatus]\n",
      "Index: []\n"
     ]
    }
   ],
   "source": [
    "duplicate_rows = df[df.duplicated()]\n",
    "\n",
    "print(\"Duplicate Rows:\\n\", duplicate_rows)"
   ]
  },
  {
   "cell_type": "markdown",
   "id": "23846d4d",
   "metadata": {},
   "source": [
    "#### Again we can observe that the above dataframe contains no duplicate rows."
   ]
  },
  {
   "cell_type": "markdown",
   "id": "88168586",
   "metadata": {},
   "source": [
    "## Checking for Outliers"
   ]
  },
  {
   "cell_type": "code",
   "execution_count": 23,
   "id": "4278b389",
   "metadata": {
    "scrolled": false
   },
   "outputs": [
    {
     "data": {
      "image/png": "[encoded data removed]",
      "text/plain": [
       "<Figure size 640x480 with 1 Axes>"
      ]
     },
     "metadata": {},
     "output_type": "display_data"
    },
    {
     "data": {
      "image/png": "[encoded data removed]",
      "text/plain": [
       "<Figure size 640x480 with 1 Axes>"
      ]
     },
     "metadata": {},
     "output_type": "display_data"
    },
    {
     "data": {
      "image/png": "[encoded data removed]",
      "text/plain": [
       "<Figure size 640x480 with 1 Axes>"
      ]
     },
     "metadata": {},
     "output_type": "display_data"
    },
    {
     "data": {
      "image/png": "[encoded data removed]",
      "text/plain": [
       "<Figure size 640x480 with 1 Axes>"
      ]
     },
     "metadata": {},
     "output_type": "display_data"
    },
    {
     "data": {
      "image/png": "[encoded data removed]",
      "text/plain": [
       "<Figure size 640x480 with 1 Axes>"
      ]
     },
     "metadata": {},
     "output_type": "display_data"
    },
    {
     "data": {
      "image/png": "[encoded data removed]",
      "text/plain": [
       "<Figure size 640x480 with 1 Axes>"
      ]
     },
     "metadata": {},
     "output_type": "display_data"
    },
    {
     "data": {
      "image/png": "[encoded data removed]",
      "text/plain": [
       "<Figure size 640x480 with 1 Axes>"
      ]
     },
     "metadata": {},
     "output_type": "display_data"
    },
    {
     "data": {
      "image/png": "[encoded data removed]",
      "text/plain": [
       "<Figure size 640x480 with 1 Axes>"
      ]
     },
     "metadata": {},
     "output_type": "display_data"
    },
    {
     "data": {
      "image/png": "[encoded data removed]",
      "text/plain": [
       "<Figure size 640x480 with 1 Axes>"
      ]
     },
     "metadata": {},
     "output_type": "display_data"
    },
    {
     "data": {
      "image/png": "[encoded data removed]",
      "text/plain": [
       "<Figure size 640x480 with 1 Axes>"
      ]
     },
     "metadata": {},
     "output_type": "display_data"
    },
    {
     "data": {
      "image/png": "[encoded data removed]",
      "text/plain": [
       "<Figure size 640x480 with 1 Axes>"
      ]
     },
     "metadata": {},
     "output_type": "display_data"
    },
    {
     "data": {
      "image/png": "[encoded data removed]",
      "text/plain": [
       "<Figure size 640x480 with 1 Axes>"
      ]
     },
     "metadata": {},
     "output_type": "display_data"
    }
   ],
   "source": [
    "sns.set(style=\"whitegrid\", palette=\"pastel\")\n",
    "for col in df:\n",
    "    sns.boxplot(x=df[col],color = \"lightgreen\")\n",
    "    plt.show()"
   ]
  },
  {
   "cell_type": "markdown",
   "id": "60edc2b0",
   "metadata": {},
   "source": [
    "#### The Box Plots are not showing any outliers in order to confirm this, we use Z-Score and IQR Method."
   ]
  },
  {
   "cell_type": "markdown",
   "id": "22fd3b43",
   "metadata": {},
   "source": [
    "### Z-Score Outlier Detection"
   ]
  },
  {
   "cell_type": "code",
   "execution_count": 24,
   "id": "71c8191c",
   "metadata": {
    "scrolled": false
   },
   "outputs": [
    {
     "name": "stdout",
     "output_type": "stream",
     "text": [
      "Empty DataFrame\n",
      "Columns: [StudentID, CGPA, Internships, Projects, Workshops/Certifications, AptitudeTestScore, SoftSkillsRating, ExtracurricularActivities, PlacementTraining, SSC_Marks, HSC_Marks, PlacementStatus]\n",
      "Index: []\n"
     ]
    }
   ],
   "source": [
    "for col in df:\n",
    "    z_scores = zscore(df[col])\n",
    "    outliers = (z_scores > 3) | (z_scores < -3)\n",
    "\n",
    "print(df[outliers])"
   ]
  },
  {
   "cell_type": "markdown",
   "id": "ed34fd97",
   "metadata": {},
   "source": [
    "#### No outliers found using ZScore."
   ]
  },
  {
   "cell_type": "markdown",
   "id": "50e137f8",
   "metadata": {},
   "source": [
    "### IQR Outlier Detection"
   ]
  },
  {
   "cell_type": "code",
   "execution_count": 25,
   "id": "353854ca",
   "metadata": {
    "scrolled": false
   },
   "outputs": [
    {
     "name": "stdout",
     "output_type": "stream",
     "text": [
      "Empty DataFrame\n",
      "Columns: [StudentID, CGPA, Internships, Projects, Workshops/Certifications, AptitudeTestScore, SoftSkillsRating, ExtracurricularActivities, PlacementTraining, SSC_Marks, HSC_Marks, PlacementStatus]\n",
      "Index: []\n"
     ]
    }
   ],
   "source": [
    "for col in df:    \n",
    "    Q1 = df[col].quantile(0.25)\n",
    "    Q3 = df[col].quantile(0.75)\n",
    "    IQR = Q3 - Q1\n",
    "    outliers = (df[col] < Q1 - 1.5 * IQR) | (df[col] > Q3 + 1.5 * IQR)\n",
    "\n",
    "print(df[outliers])"
   ]
  },
  {
   "cell_type": "markdown",
   "id": "db288f36",
   "metadata": {},
   "source": [
    "#### No Outliers also found using IQR"
   ]
  },
  {
   "cell_type": "markdown",
   "id": "f4f58a42",
   "metadata": {},
   "source": [
    "## Now that our Data is Clean We use it to perform the Classification"
   ]
  },
  {
   "cell_type": "markdown",
   "id": "a7c94be8",
   "metadata": {},
   "source": [
    "### Train and Test Dataset was made and the data was splitted."
   ]
  },
  {
   "cell_type": "code",
   "execution_count": 26,
   "id": "b5dd0c4e",
   "metadata": {},
   "outputs": [],
   "source": [
    "# This is the train and test split which was created from the normalised DataFrame.\n",
    "X_train, X_test, y_train, y_test = train_test_split(X_norm, Y, test_size=0.30, random_state=45)"
   ]
  },
  {
   "cell_type": "code",
   "execution_count": 27,
   "id": "f17dcd2a",
   "metadata": {},
   "outputs": [],
   "source": [
    "# # This is the train and test split which was created from the original normalised DataFrame.\n",
    "# X_train_new, X_test_new, y_train_new, y_test_new = train_test_split(X_norm, Y_norm, test_size=0.30, random_state=45)"
   ]
  },
  {
   "cell_type": "markdown",
   "id": "85413419",
   "metadata": {},
   "source": [
    "# Logistic Regression Model Creation and Evaluation"
   ]
  },
  {
   "cell_type": "markdown",
   "id": "920a41ec",
   "metadata": {},
   "source": [
    "### A Logistic Regression Model was created and its evaluation was done"
   ]
  },
  {
   "cell_type": "code",
   "execution_count": 28,
   "id": "ef1f080d",
   "metadata": {},
   "outputs": [],
   "source": [
    "# Here we are creating a Logistic Regression Object from the SK-Learn Library.\n",
    "lr = LogisticRegressionCV(cv = 5,random_state = 45,n_jobs = -1)"
   ]
  },
  {
   "cell_type": "code",
   "execution_count": 29,
   "id": "b1e61b83",
   "metadata": {},
   "outputs": [
    {
     "data": {
      "text/html": [
       "<style>#sk-container-id-1 {color: black;background-color: white;}#sk-container-id-1 pre{padding: 0;}#sk-container-id-1 div.sk-toggleable {background-color: white;}#sk-container-id-1 label.sk-toggleable__label {cursor: pointer;display: block;width: 100%;margin-bottom: 0;padding: 0.3em;box-sizing: border-box;text-align: center;}#sk-container-id-1 label.sk-toggleable__label-arrow:before {content: \"▸\";float: left;margin-right: 0.25em;color: #696969;}#sk-container-id-1 label.sk-toggleable__label-arrow:hover:before {color: black;}#sk-container-id-1 div.sk-estimator:hover label.sk-toggleable__label-arrow:before {color: black;}#sk-container-id-1 div.sk-toggleable__content {max-height: 0;max-width: 0;overflow: hidden;text-align: left;background-color: #f0f8ff;}#sk-container-id-1 div.sk-toggleable__content pre {margin: 0.2em;color: black;border-radius: 0.25em;background-color: #f0f8ff;}#sk-container-id-1 input.sk-toggleable__control:checked~div.sk-toggleable__content {max-height: 200px;max-width: 100%;overflow: auto;}#sk-container-id-1 input.sk-toggleable__control:checked~label.sk-toggleable__label-arrow:before {content: \"▾\";}#sk-container-id-1 div.sk-estimator input.sk-toggleable__control:checked~label.sk-toggleable__label {background-color: #d4ebff;}#sk-container-id-1 div.sk-label input.sk-toggleable__control:checked~label.sk-toggleable__label {background-color: #d4ebff;}#sk-container-id-1 input.sk-hidden--visually {border: 0;clip: rect(1px 1px 1px 1px);clip: rect(1px, 1px, 1px, 1px);height: 1px;margin: -1px;overflow: hidden;padding: 0;position: absolute;width: 1px;}#sk-container-id-1 div.sk-estimator {font-family: monospace;background-color: #f0f8ff;border: 1px dotted black;border-radius: 0.25em;box-sizing: border-box;margin-bottom: 0.5em;}#sk-container-id-1 div.sk-estimator:hover {background-color: #d4ebff;}#sk-container-id-1 div.sk-parallel-item::after {content: \"\";width: 100%;border-bottom: 1px solid gray;flex-grow: 1;}#sk-container-id-1 div.sk-label:hover label.sk-toggleable__label {background-color: #d4ebff;}#sk-container-id-1 div.sk-serial::before {content: \"\";position: absolute;border-left: 1px solid gray;box-sizing: border-box;top: 0;bottom: 0;left: 50%;z-index: 0;}#sk-container-id-1 div.sk-serial {display: flex;flex-direction: column;align-items: center;background-color: white;padding-right: 0.2em;padding-left: 0.2em;position: relative;}#sk-container-id-1 div.sk-item {position: relative;z-index: 1;}#sk-container-id-1 div.sk-parallel {display: flex;align-items: stretch;justify-content: center;background-color: white;position: relative;}#sk-container-id-1 div.sk-item::before, #sk-container-id-1 div.sk-parallel-item::before {content: \"\";position: absolute;border-left: 1px solid gray;box-sizing: border-box;top: 0;bottom: 0;left: 50%;z-index: -1;}#sk-container-id-1 div.sk-parallel-item {display: flex;flex-direction: column;z-index: 1;position: relative;background-color: white;}#sk-container-id-1 div.sk-parallel-item:first-child::after {align-self: flex-end;width: 50%;}#sk-container-id-1 div.sk-parallel-item:last-child::after {align-self: flex-start;width: 50%;}#sk-container-id-1 div.sk-parallel-item:only-child::after {width: 0;}#sk-container-id-1 div.sk-dashed-wrapped {border: 1px dashed gray;margin: 0 0.4em 0.5em 0.4em;box-sizing: border-box;padding-bottom: 0.4em;background-color: white;}#sk-container-id-1 div.sk-label label {font-family: monospace;font-weight: bold;display: inline-block;line-height: 1.2em;}#sk-container-id-1 div.sk-label-container {text-align: center;}#sk-container-id-1 div.sk-container {/* jupyter's `normalize.less` sets `[hidden] { display: none; }` but bootstrap.min.css set `[hidden] { display: none !important; }` so we also need the `!important` here to be able to override the default hidden behavior on the sphinx rendered scikit-learn.org. See: https://github.com/scikit-learn/scikit-learn/issues/21755 */display: inline-block !important;position: relative;}#sk-container-id-1 div.sk-text-repr-fallback {display: none;}</style><div id=\"sk-container-id-1\" class=\"sk-top-container\"><div class=\"sk-text-repr-fallback\"><pre>LogisticRegressionCV(cv=5, n_jobs=-1, random_state=45)</pre><b>In a Jupyter environment, please rerun this cell to show the HTML representation or trust the notebook. <br />On GitHub, the HTML representation is unable to render, please try loading this page with nbviewer.org.</b></div><div class=\"sk-container\" hidden><div class=\"sk-item\"><div class=\"sk-estimator sk-toggleable\"><input class=\"sk-toggleable__control sk-hidden--visually\" id=\"sk-estimator-id-1\" type=\"checkbox\" checked><label for=\"sk-estimator-id-1\" class=\"sk-toggleable__label sk-toggleable__label-arrow\">LogisticRegressionCV</label><div class=\"sk-toggleable__content\"><pre>LogisticRegressionCV(cv=5, n_jobs=-1, random_state=45)</pre></div></div></div></div></div>"
      ],
      "text/plain": [
       "LogisticRegressionCV(cv=5, n_jobs=-1, random_state=45)"
      ]
     },
     "execution_count": 29,
     "metadata": {},
     "output_type": "execute_result"
    }
   ],
   "source": [
    "lr.fit(X_train.values,y_train.values)"
   ]
  },
  {
   "cell_type": "code",
   "execution_count": 30,
   "id": "149215e8",
   "metadata": {},
   "outputs": [],
   "source": [
    "y_pred_lr = lr.predict(X_test.values)"
   ]
  },
  {
   "cell_type": "code",
   "execution_count": 31,
   "id": "2fb37172",
   "metadata": {
    "scrolled": false
   },
   "outputs": [
    {
     "data": {
      "image/png": "[encoded data removed]",
      "text/plain": [
       "<Figure size 640x480 with 1 Axes>"
      ]
     },
     "metadata": {},
     "output_type": "display_data"
    }
   ],
   "source": [
    "conf_matrix = confusion_matrix(y_test, y_pred_lr)\n",
    "\n",
    "sns.heatmap(conf_matrix, annot=True, fmt=\"d\", cmap=\"Reds\", cbar=False)\n",
    "plt.xlabel(\"Predicted Labels\")\n",
    "plt.ylabel(\"True Labels\")\n",
    "plt.title(\"Confusion Matrix\")\n",
    "plt.show()"
   ]
  },
  {
   "cell_type": "code",
   "execution_count": 32,
   "id": "1a338780",
   "metadata": {},
   "outputs": [
    {
     "name": "stdout",
     "output_type": "stream",
     "text": [
      "Accuracy: 0.8013333333333333\n",
      "Confusion Matrix:\n",
      "[[1446  319]\n",
      " [ 277  958]]\n",
      "Classification Report:\n",
      "              precision    recall  f1-score   support\n",
      "\n",
      "           0       0.84      0.82      0.83      1765\n",
      "           1       0.75      0.78      0.76      1235\n",
      "\n",
      "    accuracy                           0.80      3000\n",
      "   macro avg       0.79      0.80      0.80      3000\n",
      "weighted avg       0.80      0.80      0.80      3000\n",
      "\n"
     ]
    }
   ],
   "source": [
    "accuracy_lr = accuracy_score(y_test, y_pred_lr)\n",
    "conf_matrix = confusion_matrix(y_test, y_pred_lr)\n",
    "classification_rep_lr = classification_report(y_test, y_pred_lr)\n",
    "\n",
    "print(f\"Accuracy: {accuracy_lr}\")\n",
    "print(f\"Confusion Matrix:\\n{conf_matrix}\")\n",
    "print(f\"Classification Report:\\n{classification_rep_lr}\")"
   ]
  },
  {
   "cell_type": "markdown",
   "id": "bafffb6e",
   "metadata": {},
   "source": [
    "#### The Model Performance was found to be as above."
   ]
  },
  {
   "cell_type": "markdown",
   "id": "76236311",
   "metadata": {},
   "source": [
    "# KNN Classifier Model Creation and Evaluation"
   ]
  },
  {
   "cell_type": "code",
   "execution_count": 33,
   "id": "b9bad9a0",
   "metadata": {},
   "outputs": [
    {
     "data": {
      "text/html": [
       "<style>#sk-container-id-2 {color: black;background-color: white;}#sk-container-id-2 pre{padding: 0;}#sk-container-id-2 div.sk-toggleable {background-color: white;}#sk-container-id-2 label.sk-toggleable__label {cursor: pointer;display: block;width: 100%;margin-bottom: 0;padding: 0.3em;box-sizing: border-box;text-align: center;}#sk-container-id-2 label.sk-toggleable__label-arrow:before {content: \"▸\";float: left;margin-right: 0.25em;color: #696969;}#sk-container-id-2 label.sk-toggleable__label-arrow:hover:before {color: black;}#sk-container-id-2 div.sk-estimator:hover label.sk-toggleable__label-arrow:before {color: black;}#sk-container-id-2 div.sk-toggleable__content {max-height: 0;max-width: 0;overflow: hidden;text-align: left;background-color: #f0f8ff;}#sk-container-id-2 div.sk-toggleable__content pre {margin: 0.2em;color: black;border-radius: 0.25em;background-color: #f0f8ff;}#sk-container-id-2 input.sk-toggleable__control:checked~div.sk-toggleable__content {max-height: 200px;max-width: 100%;overflow: auto;}#sk-container-id-2 input.sk-toggleable__control:checked~label.sk-toggleable__label-arrow:before {content: \"▾\";}#sk-container-id-2 div.sk-estimator input.sk-toggleable__control:checked~label.sk-toggleable__label {background-color: #d4ebff;}#sk-container-id-2 div.sk-label input.sk-toggleable__control:checked~label.sk-toggleable__label {background-color: #d4ebff;}#sk-container-id-2 input.sk-hidden--visually {border: 0;clip: rect(1px 1px 1px 1px);clip: rect(1px, 1px, 1px, 1px);height: 1px;margin: -1px;overflow: hidden;padding: 0;position: absolute;width: 1px;}#sk-container-id-2 div.sk-estimator {font-family: monospace;background-color: #f0f8ff;border: 1px dotted black;border-radius: 0.25em;box-sizing: border-box;margin-bottom: 0.5em;}#sk-container-id-2 div.sk-estimator:hover {background-color: #d4ebff;}#sk-container-id-2 div.sk-parallel-item::after {content: \"\";width: 100%;border-bottom: 1px solid gray;flex-grow: 1;}#sk-container-id-2 div.sk-label:hover label.sk-toggleable__label {background-color: #d4ebff;}#sk-container-id-2 div.sk-serial::before {content: \"\";position: absolute;border-left: 1px solid gray;box-sizing: border-box;top: 0;bottom: 0;left: 50%;z-index: 0;}#sk-container-id-2 div.sk-serial {display: flex;flex-direction: column;align-items: center;background-color: white;padding-right: 0.2em;padding-left: 0.2em;position: relative;}#sk-container-id-2 div.sk-item {position: relative;z-index: 1;}#sk-container-id-2 div.sk-parallel {display: flex;align-items: stretch;justify-content: center;background-color: white;position: relative;}#sk-container-id-2 div.sk-item::before, #sk-container-id-2 div.sk-parallel-item::before {content: \"\";position: absolute;border-left: 1px solid gray;box-sizing: border-box;top: 0;bottom: 0;left: 50%;z-index: -1;}#sk-container-id-2 div.sk-parallel-item {display: flex;flex-direction: column;z-index: 1;position: relative;background-color: white;}#sk-container-id-2 div.sk-parallel-item:first-child::after {align-self: flex-end;width: 50%;}#sk-container-id-2 div.sk-parallel-item:last-child::after {align-self: flex-start;width: 50%;}#sk-container-id-2 div.sk-parallel-item:only-child::after {width: 0;}#sk-container-id-2 div.sk-dashed-wrapped {border: 1px dashed gray;margin: 0 0.4em 0.5em 0.4em;box-sizing: border-box;padding-bottom: 0.4em;background-color: white;}#sk-container-id-2 div.sk-label label {font-family: monospace;font-weight: bold;display: inline-block;line-height: 1.2em;}#sk-container-id-2 div.sk-label-container {text-align: center;}#sk-container-id-2 div.sk-container {/* jupyter's `normalize.less` sets `[hidden] { display: none; }` but bootstrap.min.css set `[hidden] { display: none !important; }` so we also need the `!important` here to be able to override the default hidden behavior on the sphinx rendered scikit-learn.org. See: https://github.com/scikit-learn/scikit-learn/issues/21755 */display: inline-block !important;position: relative;}#sk-container-id-2 div.sk-text-repr-fallback {display: none;}</style><div id=\"sk-container-id-2\" class=\"sk-top-container\"><div class=\"sk-text-repr-fallback\"><pre>KNeighborsClassifier()</pre><b>In a Jupyter environment, please rerun this cell to show the HTML representation or trust the notebook. <br />On GitHub, the HTML representation is unable to render, please try loading this page with nbviewer.org.</b></div><div class=\"sk-container\" hidden><div class=\"sk-item\"><div class=\"sk-estimator sk-toggleable\"><input class=\"sk-toggleable__control sk-hidden--visually\" id=\"sk-estimator-id-2\" type=\"checkbox\" checked><label for=\"sk-estimator-id-2\" class=\"sk-toggleable__label sk-toggleable__label-arrow\">KNeighborsClassifier</label><div class=\"sk-toggleable__content\"><pre>KNeighborsClassifier()</pre></div></div></div></div></div>"
      ],
      "text/plain": [
       "KNeighborsClassifier()"
      ]
     },
     "execution_count": 33,
     "metadata": {},
     "output_type": "execute_result"
    }
   ],
   "source": [
    "knnclf = KNeighborsClassifier()\n",
    "knnclf.fit(X_train.values, y_train.values)"
   ]
  },
  {
   "cell_type": "code",
   "execution_count": 34,
   "id": "90d9b110",
   "metadata": {},
   "outputs": [],
   "source": [
    "y_pred_knn = knnclf.predict(X_test.values)"
   ]
  },
  {
   "cell_type": "code",
   "execution_count": 35,
   "id": "439f729f",
   "metadata": {},
   "outputs": [
    {
     "data": {
      "image/png": "[encoded data removed]",
      "text/plain": [
       "<Figure size 640x480 with 1 Axes>"
      ]
     },
     "metadata": {},
     "output_type": "display_data"
    }
   ],
   "source": [
    "conf_matrix = confusion_matrix(y_test, y_pred_knn)\n",
    "\n",
    "sns.heatmap(conf_matrix, annot=True, fmt=\"d\", cmap=\"Greens\", cbar=False)\n",
    "plt.xlabel(\"Predicted Labels\")\n",
    "plt.ylabel(\"True Labels\")\n",
    "plt.title(\"Confusion Matrix\")\n",
    "plt.show()"
   ]
  },
  {
   "cell_type": "code",
   "execution_count": 36,
   "id": "534fe042",
   "metadata": {},
   "outputs": [
    {
     "name": "stdout",
     "output_type": "stream",
     "text": [
      "Accuracy: 0.7763333333333333\n",
      "Confusion Matrix:\n",
      "[[1449  316]\n",
      " [ 355  880]]\n",
      "Classification Report:\n",
      "              precision    recall  f1-score   support\n",
      "\n",
      "           0       0.80      0.82      0.81      1765\n",
      "           1       0.74      0.71      0.72      1235\n",
      "\n",
      "    accuracy                           0.78      3000\n",
      "   macro avg       0.77      0.77      0.77      3000\n",
      "weighted avg       0.78      0.78      0.78      3000\n",
      "\n"
     ]
    }
   ],
   "source": [
    "accuracy_knn = accuracy_score(y_test, y_pred_knn)\n",
    "conf_matrix = confusion_matrix(y_test, y_pred_knn)\n",
    "classification_rep_knn = classification_report(y_test, y_pred_knn)\n",
    "\n",
    "print(f\"Accuracy: {accuracy_knn}\")\n",
    "print(f\"Confusion Matrix:\\n{conf_matrix}\")\n",
    "print(f\"Classification Report:\\n{classification_rep_knn}\")"
   ]
  },
  {
   "cell_type": "markdown",
   "id": "1c68c8dd",
   "metadata": {},
   "source": [
    "# SVM Classifier Model Creation and Evaluation"
   ]
  },
  {
   "cell_type": "code",
   "execution_count": 37,
   "id": "e406e5a8",
   "metadata": {},
   "outputs": [
    {
     "data": {
      "text/html": [
       "<style>#sk-container-id-3 {color: black;background-color: white;}#sk-container-id-3 pre{padding: 0;}#sk-container-id-3 div.sk-toggleable {background-color: white;}#sk-container-id-3 label.sk-toggleable__label {cursor: pointer;display: block;width: 100%;margin-bottom: 0;padding: 0.3em;box-sizing: border-box;text-align: center;}#sk-container-id-3 label.sk-toggleable__label-arrow:before {content: \"▸\";float: left;margin-right: 0.25em;color: #696969;}#sk-container-id-3 label.sk-toggleable__label-arrow:hover:before {color: black;}#sk-container-id-3 div.sk-estimator:hover label.sk-toggleable__label-arrow:before {color: black;}#sk-container-id-3 div.sk-toggleable__content {max-height: 0;max-width: 0;overflow: hidden;text-align: left;background-color: #f0f8ff;}#sk-container-id-3 div.sk-toggleable__content pre {margin: 0.2em;color: black;border-radius: 0.25em;background-color: #f0f8ff;}#sk-container-id-3 input.sk-toggleable__control:checked~div.sk-toggleable__content {max-height: 200px;max-width: 100%;overflow: auto;}#sk-container-id-3 input.sk-toggleable__control:checked~label.sk-toggleable__label-arrow:before {content: \"▾\";}#sk-container-id-3 div.sk-estimator input.sk-toggleable__control:checked~label.sk-toggleable__label {background-color: #d4ebff;}#sk-container-id-3 div.sk-label input.sk-toggleable__control:checked~label.sk-toggleable__label {background-color: #d4ebff;}#sk-container-id-3 input.sk-hidden--visually {border: 0;clip: rect(1px 1px 1px 1px);clip: rect(1px, 1px, 1px, 1px);height: 1px;margin: -1px;overflow: hidden;padding: 0;position: absolute;width: 1px;}#sk-container-id-3 div.sk-estimator {font-family: monospace;background-color: #f0f8ff;border: 1px dotted black;border-radius: 0.25em;box-sizing: border-box;margin-bottom: 0.5em;}#sk-container-id-3 div.sk-estimator:hover {background-color: #d4ebff;}#sk-container-id-3 div.sk-parallel-item::after {content: \"\";width: 100%;border-bottom: 1px solid gray;flex-grow: 1;}#sk-container-id-3 div.sk-label:hover label.sk-toggleable__label {background-color: #d4ebff;}#sk-container-id-3 div.sk-serial::before {content: \"\";position: absolute;border-left: 1px solid gray;box-sizing: border-box;top: 0;bottom: 0;left: 50%;z-index: 0;}#sk-container-id-3 div.sk-serial {display: flex;flex-direction: column;align-items: center;background-color: white;padding-right: 0.2em;padding-left: 0.2em;position: relative;}#sk-container-id-3 div.sk-item {position: relative;z-index: 1;}#sk-container-id-3 div.sk-parallel {display: flex;align-items: stretch;justify-content: center;background-color: white;position: relative;}#sk-container-id-3 div.sk-item::before, #sk-container-id-3 div.sk-parallel-item::before {content: \"\";position: absolute;border-left: 1px solid gray;box-sizing: border-box;top: 0;bottom: 0;left: 50%;z-index: -1;}#sk-container-id-3 div.sk-parallel-item {display: flex;flex-direction: column;z-index: 1;position: relative;background-color: white;}#sk-container-id-3 div.sk-parallel-item:first-child::after {align-self: flex-end;width: 50%;}#sk-container-id-3 div.sk-parallel-item:last-child::after {align-self: flex-start;width: 50%;}#sk-container-id-3 div.sk-parallel-item:only-child::after {width: 0;}#sk-container-id-3 div.sk-dashed-wrapped {border: 1px dashed gray;margin: 0 0.4em 0.5em 0.4em;box-sizing: border-box;padding-bottom: 0.4em;background-color: white;}#sk-container-id-3 div.sk-label label {font-family: monospace;font-weight: bold;display: inline-block;line-height: 1.2em;}#sk-container-id-3 div.sk-label-container {text-align: center;}#sk-container-id-3 div.sk-container {/* jupyter's `normalize.less` sets `[hidden] { display: none; }` but bootstrap.min.css set `[hidden] { display: none !important; }` so we also need the `!important` here to be able to override the default hidden behavior on the sphinx rendered scikit-learn.org. See: https://github.com/scikit-learn/scikit-learn/issues/21755 */display: inline-block !important;position: relative;}#sk-container-id-3 div.sk-text-repr-fallback {display: none;}</style><div id=\"sk-container-id-3\" class=\"sk-top-container\"><div class=\"sk-text-repr-fallback\"><pre>SVC()</pre><b>In a Jupyter environment, please rerun this cell to show the HTML representation or trust the notebook. <br />On GitHub, the HTML representation is unable to render, please try loading this page with nbviewer.org.</b></div><div class=\"sk-container\" hidden><div class=\"sk-item\"><div class=\"sk-estimator sk-toggleable\"><input class=\"sk-toggleable__control sk-hidden--visually\" id=\"sk-estimator-id-3\" type=\"checkbox\" checked><label for=\"sk-estimator-id-3\" class=\"sk-toggleable__label sk-toggleable__label-arrow\">SVC</label><div class=\"sk-toggleable__content\"><pre>SVC()</pre></div></div></div></div></div>"
      ],
      "text/plain": [
       "SVC()"
      ]
     },
     "execution_count": 37,
     "metadata": {},
     "output_type": "execute_result"
    }
   ],
   "source": [
    "svmclf = svm.SVC()\n",
    "svmclf.fit(X_train.values, y_train.values)"
   ]
  },
  {
   "cell_type": "code",
   "execution_count": 38,
   "id": "6ac9d2d0",
   "metadata": {},
   "outputs": [],
   "source": [
    "y_pred_svc = svmclf.predict(X_test.values)"
   ]
  },
  {
   "cell_type": "code",
   "execution_count": 39,
   "id": "9017c0e8",
   "metadata": {},
   "outputs": [
    {
     "data": {
      "image/png": "[encoded data removed]",
      "text/plain": [
       "<Figure size 640x480 with 1 Axes>"
      ]
     },
     "metadata": {},
     "output_type": "display_data"
    }
   ],
   "source": [
    "conf_matrix = confusion_matrix(y_test, y_pred_svc)\n",
    "\n",
    "sns.heatmap(conf_matrix, annot=True, fmt=\"d\", cmap=\"Blues\", cbar=False)\n",
    "plt.xlabel(\"Predicted Labels\")\n",
    "plt.ylabel(\"True Labels\")\n",
    "plt.title(\"Confusion Matrix\")\n",
    "plt.show()"
   ]
  },
  {
   "cell_type": "code",
   "execution_count": 40,
   "id": "3b07d942",
   "metadata": {
    "scrolled": false
   },
   "outputs": [
    {
     "name": "stdout",
     "output_type": "stream",
     "text": [
      "Accuracy: 0.787\n",
      "Confusion Matrix:\n",
      "[[1472  293]\n",
      " [ 346  889]]\n",
      "Classification Report:\n",
      "              precision    recall  f1-score   support\n",
      "\n",
      "           0       0.81      0.83      0.82      1765\n",
      "           1       0.75      0.72      0.74      1235\n",
      "\n",
      "    accuracy                           0.79      3000\n",
      "   macro avg       0.78      0.78      0.78      3000\n",
      "weighted avg       0.79      0.79      0.79      3000\n",
      "\n"
     ]
    }
   ],
   "source": [
    "accuracy_svc = accuracy_score(y_test, y_pred_svc)\n",
    "conf_matrix = confusion_matrix(y_test, y_pred_svc)\n",
    "classification_rep_svc = classification_report(y_test, y_pred_svc)\n",
    "\n",
    "print(f\"Accuracy: {accuracy_svc}\")\n",
    "print(f\"Confusion Matrix:\\n{conf_matrix}\")\n",
    "print(f\"Classification Report:\\n{classification_rep_svc}\")"
   ]
  },
  {
   "cell_type": "markdown",
   "id": "9a5d2f68",
   "metadata": {},
   "source": [
    "#### The Model Performance was found to be as above.\n"
   ]
  },
  {
   "cell_type": "markdown",
   "id": "ea80f751",
   "metadata": {},
   "source": [
    "# Desicion Tree Classifier Model Creation and Evaluation"
   ]
  },
  {
   "cell_type": "code",
   "execution_count": 41,
   "id": "c29256da",
   "metadata": {},
   "outputs": [],
   "source": [
    "dectreeclf = DecisionTreeClassifier(random_state=42)"
   ]
  },
  {
   "cell_type": "code",
   "execution_count": 42,
   "id": "f8acc877",
   "metadata": {},
   "outputs": [
    {
     "data": {
      "text/html": [
       "<style>#sk-container-id-4 {color: black;background-color: white;}#sk-container-id-4 pre{padding: 0;}#sk-container-id-4 div.sk-toggleable {background-color: white;}#sk-container-id-4 label.sk-toggleable__label {cursor: pointer;display: block;width: 100%;margin-bottom: 0;padding: 0.3em;box-sizing: border-box;text-align: center;}#sk-container-id-4 label.sk-toggleable__label-arrow:before {content: \"▸\";float: left;margin-right: 0.25em;color: #696969;}#sk-container-id-4 label.sk-toggleable__label-arrow:hover:before {color: black;}#sk-container-id-4 div.sk-estimator:hover label.sk-toggleable__label-arrow:before {color: black;}#sk-container-id-4 div.sk-toggleable__content {max-height: 0;max-width: 0;overflow: hidden;text-align: left;background-color: #f0f8ff;}#sk-container-id-4 div.sk-toggleable__content pre {margin: 0.2em;color: black;border-radius: 0.25em;background-color: #f0f8ff;}#sk-container-id-4 input.sk-toggleable__control:checked~div.sk-toggleable__content {max-height: 200px;max-width: 100%;overflow: auto;}#sk-container-id-4 input.sk-toggleable__control:checked~label.sk-toggleable__label-arrow:before {content: \"▾\";}#sk-container-id-4 div.sk-estimator input.sk-toggleable__control:checked~label.sk-toggleable__label {background-color: #d4ebff;}#sk-container-id-4 div.sk-label input.sk-toggleable__control:checked~label.sk-toggleable__label {background-color: #d4ebff;}#sk-container-id-4 input.sk-hidden--visually {border: 0;clip: rect(1px 1px 1px 1px);clip: rect(1px, 1px, 1px, 1px);height: 1px;margin: -1px;overflow: hidden;padding: 0;position: absolute;width: 1px;}#sk-container-id-4 div.sk-estimator {font-family: monospace;background-color: #f0f8ff;border: 1px dotted black;border-radius: 0.25em;box-sizing: border-box;margin-bottom: 0.5em;}#sk-container-id-4 div.sk-estimator:hover {background-color: #d4ebff;}#sk-container-id-4 div.sk-parallel-item::after {content: \"\";width: 100%;border-bottom: 1px solid gray;flex-grow: 1;}#sk-container-id-4 div.sk-label:hover label.sk-toggleable__label {background-color: #d4ebff;}#sk-container-id-4 div.sk-serial::before {content: \"\";position: absolute;border-left: 1px solid gray;box-sizing: border-box;top: 0;bottom: 0;left: 50%;z-index: 0;}#sk-container-id-4 div.sk-serial {display: flex;flex-direction: column;align-items: center;background-color: white;padding-right: 0.2em;padding-left: 0.2em;position: relative;}#sk-container-id-4 div.sk-item {position: relative;z-index: 1;}#sk-container-id-4 div.sk-parallel {display: flex;align-items: stretch;justify-content: center;background-color: white;position: relative;}#sk-container-id-4 div.sk-item::before, #sk-container-id-4 div.sk-parallel-item::before {content: \"\";position: absolute;border-left: 1px solid gray;box-sizing: border-box;top: 0;bottom: 0;left: 50%;z-index: -1;}#sk-container-id-4 div.sk-parallel-item {display: flex;flex-direction: column;z-index: 1;position: relative;background-color: white;}#sk-container-id-4 div.sk-parallel-item:first-child::after {align-self: flex-end;width: 50%;}#sk-container-id-4 div.sk-parallel-item:last-child::after {align-self: flex-start;width: 50%;}#sk-container-id-4 div.sk-parallel-item:only-child::after {width: 0;}#sk-container-id-4 div.sk-dashed-wrapped {border: 1px dashed gray;margin: 0 0.4em 0.5em 0.4em;box-sizing: border-box;padding-bottom: 0.4em;background-color: white;}#sk-container-id-4 div.sk-label label {font-family: monospace;font-weight: bold;display: inline-block;line-height: 1.2em;}#sk-container-id-4 div.sk-label-container {text-align: center;}#sk-container-id-4 div.sk-container {/* jupyter's `normalize.less` sets `[hidden] { display: none; }` but bootstrap.min.css set `[hidden] { display: none !important; }` so we also need the `!important` here to be able to override the default hidden behavior on the sphinx rendered scikit-learn.org. See: https://github.com/scikit-learn/scikit-learn/issues/21755 */display: inline-block !important;position: relative;}#sk-container-id-4 div.sk-text-repr-fallback {display: none;}</style><div id=\"sk-container-id-4\" class=\"sk-top-container\"><div class=\"sk-text-repr-fallback\"><pre>DecisionTreeClassifier(random_state=42)</pre><b>In a Jupyter environment, please rerun this cell to show the HTML representation or trust the notebook. <br />On GitHub, the HTML representation is unable to render, please try loading this page with nbviewer.org.</b></div><div class=\"sk-container\" hidden><div class=\"sk-item\"><div class=\"sk-estimator sk-toggleable\"><input class=\"sk-toggleable__control sk-hidden--visually\" id=\"sk-estimator-id-4\" type=\"checkbox\" checked><label for=\"sk-estimator-id-4\" class=\"sk-toggleable__label sk-toggleable__label-arrow\">DecisionTreeClassifier</label><div class=\"sk-toggleable__content\"><pre>DecisionTreeClassifier(random_state=42)</pre></div></div></div></div></div>"
      ],
      "text/plain": [
       "DecisionTreeClassifier(random_state=42)"
      ]
     },
     "execution_count": 42,
     "metadata": {},
     "output_type": "execute_result"
    }
   ],
   "source": [
    "dectreeclf.fit(X_train, y_train)"
   ]
  },
  {
   "cell_type": "code",
   "execution_count": 43,
   "id": "4663ad11",
   "metadata": {},
   "outputs": [],
   "source": [
    "y_pred_dt = dectreeclf.predict(X_test.values)"
   ]
  },
  {
   "cell_type": "code",
   "execution_count": 44,
   "id": "3de84adc",
   "metadata": {},
   "outputs": [
    {
     "data": {
      "image/png": "[encoded data removed]",
      "text/plain": [
       "<Figure size 640x480 with 1 Axes>"
      ]
     },
     "metadata": {},
     "output_type": "display_data"
    }
   ],
   "source": [
    "conf_matrix = confusion_matrix(y_test, y_pred_dt)\n",
    "\n",
    "sns.heatmap(conf_matrix, annot=True, fmt=\"d\", cmap=\"Reds\", cbar=False)\n",
    "plt.xlabel(\"Predicted Labels\")\n",
    "plt.ylabel(\"True Labels\")\n",
    "plt.title(\"Confusion Matrix\")\n",
    "plt.show()"
   ]
  },
  {
   "cell_type": "code",
   "execution_count": 45,
   "id": "6004bdb6",
   "metadata": {},
   "outputs": [
    {
     "name": "stdout",
     "output_type": "stream",
     "text": [
      "Accuracy: 0.714\n",
      "Confusion Matrix:\n",
      "[[1314  451]\n",
      " [ 407  828]]\n",
      "Classification Report:\n",
      "              precision    recall  f1-score   support\n",
      "\n",
      "           0       0.76      0.74      0.75      1765\n",
      "           1       0.65      0.67      0.66      1235\n",
      "\n",
      "    accuracy                           0.71      3000\n",
      "   macro avg       0.71      0.71      0.71      3000\n",
      "weighted avg       0.72      0.71      0.71      3000\n",
      "\n"
     ]
    }
   ],
   "source": [
    "# Evaluate the performance\n",
    "accuracy_dt = accuracy_score(y_test, y_pred_dt)\n",
    "conf_matrix = confusion_matrix(y_test, y_pred_dt)\n",
    "classification_rep_dt = classification_report(y_test, y_pred_dt)\n",
    "\n",
    "print(f\"Accuracy: {accuracy_dt}\")\n",
    "print(f\"Confusion Matrix:\\n{conf_matrix}\")\n",
    "print(f\"Classification Report:\\n{classification_rep_dt}\")"
   ]
  },
  {
   "cell_type": "markdown",
   "id": "c0f1cb27",
   "metadata": {},
   "source": [
    "#### The Model Performance was found to be as above.\n"
   ]
  },
  {
   "cell_type": "markdown",
   "id": "aba8a437",
   "metadata": {},
   "source": [
    "# Naïve-Bayes Model Creation and Evaluation"
   ]
  },
  {
   "cell_type": "code",
   "execution_count": 46,
   "id": "974d0d42",
   "metadata": {},
   "outputs": [],
   "source": [
    "nbclf = GaussianNB()"
   ]
  },
  {
   "cell_type": "code",
   "execution_count": 47,
   "id": "6e10eab8",
   "metadata": {},
   "outputs": [
    {
     "data": {
      "text/html": [
       "<style>#sk-container-id-5 {color: black;background-color: white;}#sk-container-id-5 pre{padding: 0;}#sk-container-id-5 div.sk-toggleable {background-color: white;}#sk-container-id-5 label.sk-toggleable__label {cursor: pointer;display: block;width: 100%;margin-bottom: 0;padding: 0.3em;box-sizing: border-box;text-align: center;}#sk-container-id-5 label.sk-toggleable__label-arrow:before {content: \"▸\";float: left;margin-right: 0.25em;color: #696969;}#sk-container-id-5 label.sk-toggleable__label-arrow:hover:before {color: black;}#sk-container-id-5 div.sk-estimator:hover label.sk-toggleable__label-arrow:before {color: black;}#sk-container-id-5 div.sk-toggleable__content {max-height: 0;max-width: 0;overflow: hidden;text-align: left;background-color: #f0f8ff;}#sk-container-id-5 div.sk-toggleable__content pre {margin: 0.2em;color: black;border-radius: 0.25em;background-color: #f0f8ff;}#sk-container-id-5 input.sk-toggleable__control:checked~div.sk-toggleable__content {max-height: 200px;max-width: 100%;overflow: auto;}#sk-container-id-5 input.sk-toggleable__control:checked~label.sk-toggleable__label-arrow:before {content: \"▾\";}#sk-container-id-5 div.sk-estimator input.sk-toggleable__control:checked~label.sk-toggleable__label {background-color: #d4ebff;}#sk-container-id-5 div.sk-label input.sk-toggleable__control:checked~label.sk-toggleable__label {background-color: #d4ebff;}#sk-container-id-5 input.sk-hidden--visually {border: 0;clip: rect(1px 1px 1px 1px);clip: rect(1px, 1px, 1px, 1px);height: 1px;margin: -1px;overflow: hidden;padding: 0;position: absolute;width: 1px;}#sk-container-id-5 div.sk-estimator {font-family: monospace;background-color: #f0f8ff;border: 1px dotted black;border-radius: 0.25em;box-sizing: border-box;margin-bottom: 0.5em;}#sk-container-id-5 div.sk-estimator:hover {background-color: #d4ebff;}#sk-container-id-5 div.sk-parallel-item::after {content: \"\";width: 100%;border-bottom: 1px solid gray;flex-grow: 1;}#sk-container-id-5 div.sk-label:hover label.sk-toggleable__label {background-color: #d4ebff;}#sk-container-id-5 div.sk-serial::before {content: \"\";position: absolute;border-left: 1px solid gray;box-sizing: border-box;top: 0;bottom: 0;left: 50%;z-index: 0;}#sk-container-id-5 div.sk-serial {display: flex;flex-direction: column;align-items: center;background-color: white;padding-right: 0.2em;padding-left: 0.2em;position: relative;}#sk-container-id-5 div.sk-item {position: relative;z-index: 1;}#sk-container-id-5 div.sk-parallel {display: flex;align-items: stretch;justify-content: center;background-color: white;position: relative;}#sk-container-id-5 div.sk-item::before, #sk-container-id-5 div.sk-parallel-item::before {content: \"\";position: absolute;border-left: 1px solid gray;box-sizing: border-box;top: 0;bottom: 0;left: 50%;z-index: -1;}#sk-container-id-5 div.sk-parallel-item {display: flex;flex-direction: column;z-index: 1;position: relative;background-color: white;}#sk-container-id-5 div.sk-parallel-item:first-child::after {align-self: flex-end;width: 50%;}#sk-container-id-5 div.sk-parallel-item:last-child::after {align-self: flex-start;width: 50%;}#sk-container-id-5 div.sk-parallel-item:only-child::after {width: 0;}#sk-container-id-5 div.sk-dashed-wrapped {border: 1px dashed gray;margin: 0 0.4em 0.5em 0.4em;box-sizing: border-box;padding-bottom: 0.4em;background-color: white;}#sk-container-id-5 div.sk-label label {font-family: monospace;font-weight: bold;display: inline-block;line-height: 1.2em;}#sk-container-id-5 div.sk-label-container {text-align: center;}#sk-container-id-5 div.sk-container {/* jupyter's `normalize.less` sets `[hidden] { display: none; }` but bootstrap.min.css set `[hidden] { display: none !important; }` so we also need the `!important` here to be able to override the default hidden behavior on the sphinx rendered scikit-learn.org. See: https://github.com/scikit-learn/scikit-learn/issues/21755 */display: inline-block !important;position: relative;}#sk-container-id-5 div.sk-text-repr-fallback {display: none;}</style><div id=\"sk-container-id-5\" class=\"sk-top-container\"><div class=\"sk-text-repr-fallback\"><pre>GaussianNB()</pre><b>In a Jupyter environment, please rerun this cell to show the HTML representation or trust the notebook. <br />On GitHub, the HTML representation is unable to render, please try loading this page with nbviewer.org.</b></div><div class=\"sk-container\" hidden><div class=\"sk-item\"><div class=\"sk-estimator sk-toggleable\"><input class=\"sk-toggleable__control sk-hidden--visually\" id=\"sk-estimator-id-5\" type=\"checkbox\" checked><label for=\"sk-estimator-id-5\" class=\"sk-toggleable__label sk-toggleable__label-arrow\">GaussianNB</label><div class=\"sk-toggleable__content\"><pre>GaussianNB()</pre></div></div></div></div></div>"
      ],
      "text/plain": [
       "GaussianNB()"
      ]
     },
     "execution_count": 47,
     "metadata": {},
     "output_type": "execute_result"
    }
   ],
   "source": [
    "nbclf.fit(X_train, y_train)"
   ]
  },
  {
   "cell_type": "code",
   "execution_count": 48,
   "id": "f9582baa",
   "metadata": {},
   "outputs": [],
   "source": [
    "y_pred_nb = nbclf.predict(X_test.values)"
   ]
  },
  {
   "cell_type": "code",
   "execution_count": 49,
   "id": "157e6b74",
   "metadata": {},
   "outputs": [
    {
     "data": {
      "image/png": "[encoded data removed]",
      "text/plain": [
       "<Figure size 640x480 with 1 Axes>"
      ]
     },
     "metadata": {},
     "output_type": "display_data"
    }
   ],
   "source": [
    "conf_matrix = confusion_matrix(y_test, y_pred_nb)\n",
    "\n",
    "sns.heatmap(conf_matrix, annot=True, fmt=\"d\", cmap=\"Greens\", cbar=False)\n",
    "plt.xlabel(\"Predicted Labels\")\n",
    "plt.ylabel(\"True Labels\")\n",
    "plt.title(\"Confusion Matrix\")\n",
    "plt.show()"
   ]
  },
  {
   "cell_type": "code",
   "execution_count": 50,
   "id": "693370d6",
   "metadata": {
    "scrolled": true
   },
   "outputs": [
    {
     "name": "stdout",
     "output_type": "stream",
     "text": [
      "Accuracy: 0.7946666666666666\n",
      "Confusion Matrix:\n",
      "[[1401  364]\n",
      " [ 252  983]]\n",
      "Classification Report:\n",
      "              precision    recall  f1-score   support\n",
      "\n",
      "           0       0.85      0.79      0.82      1765\n",
      "           1       0.73      0.80      0.76      1235\n",
      "\n",
      "    accuracy                           0.79      3000\n",
      "   macro avg       0.79      0.79      0.79      3000\n",
      "weighted avg       0.80      0.79      0.80      3000\n",
      "\n"
     ]
    }
   ],
   "source": [
    "# Evaluate the performance\n",
    "accuracy_nb = accuracy_score(y_test, y_pred_nb)\n",
    "conf_matrix = confusion_matrix(y_test, y_pred_nb)\n",
    "classification_rep_nb = classification_report(y_test, y_pred_nb)\n",
    "\n",
    "print(f\"Accuracy: {accuracy_nb}\")\n",
    "print(f\"Confusion Matrix:\\n{conf_matrix}\")\n",
    "print(f\"Classification Report:\\n{classification_rep_nb}\")"
   ]
  },
  {
   "cell_type": "markdown",
   "id": "e6ba38f1",
   "metadata": {},
   "source": [
    "#### The Model Performance was found to be as above.\n",
    "\n"
   ]
  },
  {
   "cell_type": "markdown",
   "id": "850d9e20",
   "metadata": {},
   "source": [
    "# Random Forest Classifier Model Creation and Evaluation"
   ]
  },
  {
   "cell_type": "code",
   "execution_count": 51,
   "id": "85f2fa35",
   "metadata": {},
   "outputs": [],
   "source": [
    "rfclf = RandomForestClassifier(n_estimators=100, random_state=42)"
   ]
  },
  {
   "cell_type": "code",
   "execution_count": 52,
   "id": "32a1734e",
   "metadata": {},
   "outputs": [
    {
     "data": {
      "text/html": [
       "<style>#sk-container-id-6 {color: black;background-color: white;}#sk-container-id-6 pre{padding: 0;}#sk-container-id-6 div.sk-toggleable {background-color: white;}#sk-container-id-6 label.sk-toggleable__label {cursor: pointer;display: block;width: 100%;margin-bottom: 0;padding: 0.3em;box-sizing: border-box;text-align: center;}#sk-container-id-6 label.sk-toggleable__label-arrow:before {content: \"▸\";float: left;margin-right: 0.25em;color: #696969;}#sk-container-id-6 label.sk-toggleable__label-arrow:hover:before {color: black;}#sk-container-id-6 div.sk-estimator:hover label.sk-toggleable__label-arrow:before {color: black;}#sk-container-id-6 div.sk-toggleable__content {max-height: 0;max-width: 0;overflow: hidden;text-align: left;background-color: #f0f8ff;}#sk-container-id-6 div.sk-toggleable__content pre {margin: 0.2em;color: black;border-radius: 0.25em;background-color: #f0f8ff;}#sk-container-id-6 input.sk-toggleable__control:checked~div.sk-toggleable__content {max-height: 200px;max-width: 100%;overflow: auto;}#sk-container-id-6 input.sk-toggleable__control:checked~label.sk-toggleable__label-arrow:before {content: \"▾\";}#sk-container-id-6 div.sk-estimator input.sk-toggleable__control:checked~label.sk-toggleable__label {background-color: #d4ebff;}#sk-container-id-6 div.sk-label input.sk-toggleable__control:checked~label.sk-toggleable__label {background-color: #d4ebff;}#sk-container-id-6 input.sk-hidden--visually {border: 0;clip: rect(1px 1px 1px 1px);clip: rect(1px, 1px, 1px, 1px);height: 1px;margin: -1px;overflow: hidden;padding: 0;position: absolute;width: 1px;}#sk-container-id-6 div.sk-estimator {font-family: monospace;background-color: #f0f8ff;border: 1px dotted black;border-radius: 0.25em;box-sizing: border-box;margin-bottom: 0.5em;}#sk-container-id-6 div.sk-estimator:hover {background-color: #d4ebff;}#sk-container-id-6 div.sk-parallel-item::after {content: \"\";width: 100%;border-bottom: 1px solid gray;flex-grow: 1;}#sk-container-id-6 div.sk-label:hover label.sk-toggleable__label {background-color: #d4ebff;}#sk-container-id-6 div.sk-serial::before {content: \"\";position: absolute;border-left: 1px solid gray;box-sizing: border-box;top: 0;bottom: 0;left: 50%;z-index: 0;}#sk-container-id-6 div.sk-serial {display: flex;flex-direction: column;align-items: center;background-color: white;padding-right: 0.2em;padding-left: 0.2em;position: relative;}#sk-container-id-6 div.sk-item {position: relative;z-index: 1;}#sk-container-id-6 div.sk-parallel {display: flex;align-items: stretch;justify-content: center;background-color: white;position: relative;}#sk-container-id-6 div.sk-item::before, #sk-container-id-6 div.sk-parallel-item::before {content: \"\";position: absolute;border-left: 1px solid gray;box-sizing: border-box;top: 0;bottom: 0;left: 50%;z-index: -1;}#sk-container-id-6 div.sk-parallel-item {display: flex;flex-direction: column;z-index: 1;position: relative;background-color: white;}#sk-container-id-6 div.sk-parallel-item:first-child::after {align-self: flex-end;width: 50%;}#sk-container-id-6 div.sk-parallel-item:last-child::after {align-self: flex-start;width: 50%;}#sk-container-id-6 div.sk-parallel-item:only-child::after {width: 0;}#sk-container-id-6 div.sk-dashed-wrapped {border: 1px dashed gray;margin: 0 0.4em 0.5em 0.4em;box-sizing: border-box;padding-bottom: 0.4em;background-color: white;}#sk-container-id-6 div.sk-label label {font-family: monospace;font-weight: bold;display: inline-block;line-height: 1.2em;}#sk-container-id-6 div.sk-label-container {text-align: center;}#sk-container-id-6 div.sk-container {/* jupyter's `normalize.less` sets `[hidden] { display: none; }` but bootstrap.min.css set `[hidden] { display: none !important; }` so we also need the `!important` here to be able to override the default hidden behavior on the sphinx rendered scikit-learn.org. See: https://github.com/scikit-learn/scikit-learn/issues/21755 */display: inline-block !important;position: relative;}#sk-container-id-6 div.sk-text-repr-fallback {display: none;}</style><div id=\"sk-container-id-6\" class=\"sk-top-container\"><div class=\"sk-text-repr-fallback\"><pre>RandomForestClassifier(random_state=42)</pre><b>In a Jupyter environment, please rerun this cell to show the HTML representation or trust the notebook. <br />On GitHub, the HTML representation is unable to render, please try loading this page with nbviewer.org.</b></div><div class=\"sk-container\" hidden><div class=\"sk-item\"><div class=\"sk-estimator sk-toggleable\"><input class=\"sk-toggleable__control sk-hidden--visually\" id=\"sk-estimator-id-6\" type=\"checkbox\" checked><label for=\"sk-estimator-id-6\" class=\"sk-toggleable__label sk-toggleable__label-arrow\">RandomForestClassifier</label><div class=\"sk-toggleable__content\"><pre>RandomForestClassifier(random_state=42)</pre></div></div></div></div></div>"
      ],
      "text/plain": [
       "RandomForestClassifier(random_state=42)"
      ]
     },
     "execution_count": 52,
     "metadata": {},
     "output_type": "execute_result"
    }
   ],
   "source": [
    "rfclf.fit(X_train, y_train)"
   ]
  },
  {
   "cell_type": "code",
   "execution_count": 53,
   "id": "1433a1a4",
   "metadata": {},
   "outputs": [],
   "source": [
    "y_pred_rf = rfclf.predict(X_test.values)"
   ]
  },
  {
   "cell_type": "code",
   "execution_count": 54,
   "id": "e9e25bcb",
   "metadata": {},
   "outputs": [
    {
     "data": {
      "image/png": "[encoded data removed]",
      "text/plain": [
       "<Figure size 640x480 with 1 Axes>"
      ]
     },
     "metadata": {},
     "output_type": "display_data"
    }
   ],
   "source": [
    "conf_matrix = confusion_matrix(y_test, y_pred_rf)\n",
    "\n",
    "sns.heatmap(conf_matrix, annot=True, fmt=\"d\", cmap=\"Blues\", cbar=False)\n",
    "plt.xlabel(\"Predicted Labels\")\n",
    "plt.ylabel(\"True Labels\")\n",
    "plt.title(\"Confusion Matrix\")\n",
    "plt.show()"
   ]
  },
  {
   "cell_type": "code",
   "execution_count": 55,
   "id": "ea3450a4",
   "metadata": {
    "scrolled": true
   },
   "outputs": [
    {
     "name": "stdout",
     "output_type": "stream",
     "text": [
      "Accuracy: 0.7926666666666666\n",
      "Confusion Matrix:\n",
      "[[1476  289]\n",
      " [ 333  902]]\n",
      "Classification Report:\n",
      "              precision    recall  f1-score   support\n",
      "\n",
      "           0       0.82      0.84      0.83      1765\n",
      "           1       0.76      0.73      0.74      1235\n",
      "\n",
      "    accuracy                           0.79      3000\n",
      "   macro avg       0.79      0.78      0.78      3000\n",
      "weighted avg       0.79      0.79      0.79      3000\n",
      "\n"
     ]
    }
   ],
   "source": [
    "# Evaluate the performance\n",
    "accuracy_rf = accuracy_score(y_test, y_pred_rf)\n",
    "conf_matrix = confusion_matrix(y_test, y_pred_rf)\n",
    "classification_rep_rf = classification_report(y_test, y_pred_rf)\n",
    "\n",
    "print(f\"Accuracy: {accuracy_rf}\")\n",
    "print(f\"Confusion Matrix:\\n{conf_matrix}\")\n",
    "print(f\"Classification Report:\\n{classification_rep_rf}\")"
   ]
  },
  {
   "cell_type": "markdown",
   "id": "b19cd4ab",
   "metadata": {},
   "source": [
    "#### The Model Performance was found to be as above.\n"
   ]
  },
  {
   "cell_type": "markdown",
   "id": "d5d0302f",
   "metadata": {},
   "source": [
    "## Above Model's Performance Comparision"
   ]
  },
  {
   "cell_type": "code",
   "execution_count": 59,
   "id": "322e7b8d",
   "metadata": {
    "scrolled": false
   },
   "outputs": [
    {
     "data": {
      "image/png": "[encoded data removed]",
      "text/plain": [
       "<Figure size 1500x600 with 1 Axes>"
      ]
     },
     "metadata": {},
     "output_type": "display_data"
    }
   ],
   "source": [
    "models = [\n",
    "    'Logistic Regression',\n",
    "    'KNN',\n",
    "    'Support Vector Machine' ,\n",
    "    'Naive Bayes',\n",
    "    'Decision Trees' ,\n",
    "    'Random Forest Classifier']\n",
    "\n",
    "accuracies = [accuracy_lr, accuracy_knn,accuracy_svc,accuracy_nb,accuracy_dt,accuracy_rf]\n",
    "\n",
    "plt.figure(figsize=(15, 6))\n",
    "bars = plt.bar(models, accuracies, color=['blue', 'green', 'orange', 'red', 'pink', 'lightgreen'])\n",
    "plt.xlabel('Models')\n",
    "plt.ylabel('Accuracy')\n",
    "plt.title('Comparison of Model Accuracies')\n",
    "plt.ylim(0, 1)\n",
    "\n",
    "for bar, accuracy in zip(bars, accuracies):\n",
    "    plt.text(bar.get_x() + bar.get_width() / 2 - 0.1, bar.get_height() + 0.01, f'{accuracy:.3f}', ha='center')\n",
    "plt.grid(False)\n",
    "plt.show()"
   ]
  },
  {
   "cell_type": "code",
   "execution_count": 60,
   "id": "268dda53",
   "metadata": {},
   "outputs": [
    {
     "data": {
      "image/png": "[encoded data removed]",
      "text/plain": [
       "<Figure size 800x800 with 1 Axes>"
      ]
     },
     "metadata": {},
     "output_type": "display_data"
    }
   ],
   "source": [
    "from sklearn.metrics import roc_curve, auc\n",
    "\n",
    "def plot_roc_curves(model_names, accuracies, y_preds, y_true):\n",
    "    plt.figure(figsize=(8, 8))\n",
    "\n",
    "    colors = ['blue', 'green', 'orange', 'red', 'pink', 'yellow']\n",
    "\n",
    "    for name, y_pred, color in zip(model_names, y_preds, colors):\n",
    "        fpr, tpr, _ = roc_curve(y_true, y_pred)\n",
    "        roc_auc = auc(fpr, tpr)\n",
    "        plt.plot(fpr, tpr, label=f'{name} (AUC = {roc_auc:.2f})', color=color)\n",
    "\n",
    "    # Plot the random line\n",
    "    plt.plot([0, 1], [0, 1], linestyle='--', color='gray', label='Random')\n",
    "\n",
    "    plt.xlabel('False Positive Rate')\n",
    "    plt.ylabel('True Positive Rate')\n",
    "    plt.title('ROC Curves for Different Models')\n",
    "    plt.legend()\n",
    "    plt.show()\n",
    "\n",
    "# Replace these with your actual values\n",
    "models = [\n",
    "    'Logistic Regression',\n",
    "    'KNN',\n",
    "    'Support Vector Machine',\n",
    "    'Naive Bayes',\n",
    "    'Decision Trees',\n",
    "    'Random Forest Classifier'\n",
    "]\n",
    "\n",
    "accuracies = [accuracy_lr, accuracy_svc, accuracy_nb, accuracy_dt, accuracy_rf]\n",
    "\n",
    "y_preds = [y_pred_lr, y_pred_svc, y_pred_nb, y_pred_dt, y_pred_rf]\n",
    "\n",
    "# Assuming you have a y_true variable for true labels\n",
    "y_true = y_test\n",
    "\n",
    "# Plot ROC curves using the function\n",
    "plot_roc_curves(models, accuracies, y_preds, y_true)"
   ]
  },
  {
   "cell_type": "markdown",
   "id": "a1b8f179",
   "metadata": {},
   "source": [
    "#### Since the higest accuracy is acheived in Logistic Regression we use that as our final model for prediction."
   ]
  },
  {
   "cell_type": "markdown",
   "id": "b9223eaf",
   "metadata": {},
   "source": [
    "## Predicting for a new datapoint"
   ]
  },
  {
   "cell_type": "code",
   "execution_count": 61,
   "id": "f7bce33f",
   "metadata": {
    "scrolled": false
   },
   "outputs": [
    {
     "name": "stdout",
     "output_type": "stream",
     "text": [
      "[[0.788 2.    4.    1.    0.8   0.3   1.    1.    0.753 0.89 ]]\n",
      "[1]\n",
      "Placed!\n"
     ]
    }
   ],
   "source": [
    "values = []\n",
    "def submit():\n",
    "    CGPA = float(entry1.get())/10\n",
    "    Internships = float(entry2.get())\n",
    "    Projects = float(entry3.get())\n",
    "    WoCer = float(entry4.get())\n",
    "    AptitudeTestScore = float(entry5.get())/100\n",
    "    SoftSkillsRating = float(entry6.get())/10\n",
    "    ExtracurricularActivities = float(entry7.get())\n",
    "    PlacementTraining = float(entry8.get())\n",
    "    SSC_Marks = float(entry9.get())/100\n",
    "    HSC_Marks = float(entry10.get())/100\n",
    "    \n",
    "    values = [CGPA,Internships,Projects,WoCer,AptitudeTestScore,SoftSkillsRating,ExtracurricularActivities,\n",
    "              PlacementTraining,SSC_Marks,HSC_Marks]\n",
    "        \n",
    "    new_datapoint = values\n",
    "    new_datapoint = np.array(new_datapoint)\n",
    "    new_datapoint = new_datapoint.reshape(1, -1)\n",
    "    \n",
    "    print(new_datapoint)\n",
    "    temp = lr.predict(new_datapoint)\n",
    "    print(temp)\n",
    "    if temp == 0:\n",
    "        result_label.config(text=\"Not Placed !\")\n",
    "        print(\"Not Placed!\")\n",
    "    else:\n",
    "        result_label.config(text=f\"Placed !\")\n",
    "        print(\"Placed!\")\n",
    "\n",
    "def clear():\n",
    "    entry1.delete(0, tk.END)\n",
    "    entry2.delete(0, tk.END)\n",
    "    entry3.delete(0, tk.END)\n",
    "    entry4.delete(0, tk.END)\n",
    "    entry5.delete(0, tk.END)\n",
    "    entry6.delete(0, tk.END)\n",
    "    entry7.delete(0, tk.END)\n",
    "    entry8.delete(0, tk.END)\n",
    "    entry9.delete(0, tk.END)\n",
    "    entry10.delete(0, tk.END)\n",
    "    result_label.config(text=\"\")\n",
    "\n",
    "def exit_app():\n",
    "    root.destroy()\n",
    "\n",
    "root = tk.Tk()\n",
    "root.geometry(\"300x450\")\n",
    "root.title(\"~~Placement Predictor~~\")\n",
    "\n",
    "# Labels\n",
    "label1 = tk.Label(root, text=\"CGPA : \")\n",
    "label2 = tk.Label(root, text=\"Internship Num : \")\n",
    "label3 = tk.Label(root, text=\"Projects Num : \")\n",
    "label4 = tk.Label(root, text=\"Workshops/Certifications : \")\n",
    "label5 = tk.Label(root, text=\"AptitudeTestScore (0-100): \")\n",
    "label6 = tk.Label(root, text=\"SoftSkillRating (0-5): \")\n",
    "label7 = tk.Label(root, text=\"ExtraCurricular [0/1] : \")\n",
    "label8 = tk.Label(root, text=\"Placement Training [0/1] : \")\n",
    "label9 = tk.Label(root, text=\"SSC Marks : \")\n",
    "label10 = tk.Label(root, text=\"HSC Marks : \")\n",
    "\n",
    "# Entry Fields\n",
    "entry1 = tk.Entry(root)\n",
    "entry2 = tk.Entry(root)\n",
    "entry3 = tk.Entry(root)\n",
    "entry4 = tk.Entry(root)\n",
    "entry5 = tk.Entry(root)\n",
    "entry6 = tk.Entry(root)\n",
    "entry7 = tk.Entry(root)\n",
    "entry8 = tk.Entry(root)\n",
    "entry9 = tk.Entry(root)\n",
    "entry10 = tk.Entry(root)\n",
    "\n",
    "\n",
    "# Arrange widgets using the grid layout manager\n",
    "label1.grid(row=0, column=0, pady=5, sticky=tk.E)\n",
    "entry1.grid(row=0, column=1, pady=5)\n",
    "label2.grid(row=1, column=0, pady=5, sticky=tk.E)\n",
    "entry2.grid(row=1, column=1, pady=5)\n",
    "label3.grid(row=2, column=0, pady=5, sticky=tk.E)\n",
    "entry3.grid(row=2, column=1, pady=5)\n",
    "label4.grid(row=3, column=0, pady=5, sticky=tk.E)\n",
    "entry4.grid(row=3, column=1, pady=5)\n",
    "label5.grid(row=4, column=0, pady=5, sticky=tk.E)\n",
    "entry5.grid(row=4, column=1, pady=5)\n",
    "label6.grid(row=5, column=0, pady=5, sticky=tk.E)\n",
    "entry6.grid(row=5, column=1, pady=5)\n",
    "label7.grid(row=6, column=0, pady=5, sticky=tk.E)\n",
    "entry7.grid(row=6, column=1, pady=5)\n",
    "label8.grid(row=7, column=0, pady=5, sticky=tk.E)\n",
    "entry8.grid(row=7, column=1, pady=5)\n",
    "label9.grid(row=8, column=0, pady=5, sticky=tk.E)\n",
    "entry9.grid(row=8, column=1, pady=5)\n",
    "label10.grid(row=9, column=0, pady=5, sticky=tk.E)\n",
    "entry10.grid(row=9, column=1, pady=5)\n",
    "\n",
    "\n",
    "# Buttons\n",
    "submit_button = tk.Button(root, text=\"Predict\", command=submit)\n",
    "clear_button = tk.Button(root, text=\"Clear\", command=clear)\n",
    "exit_button = tk.Button(root, text=\"Exit\", command=exit_app)\n",
    "\n",
    "# Result label\n",
    "result_label = tk.Label(root, text=\"\")\n",
    "\n",
    "submit_button.grid(row=10, column=0, pady=10)\n",
    "clear_button.grid(row=10, column=1, pady=10)\n",
    "exit_button.grid(row=11, column=1, pady=10)\n",
    "\n",
    "result_label.grid(row=15, column=0, columnspan=5)\n",
    "\n",
    "# Start the Tkinter event loop\n",
    "root.mainloop()"
   ]
  }
 ],
 "metadata": {
  "kernelspec": {
   "display_name": "Python 3 (ipykernel)",
   "language": "python",
   "name": "python3"
  },
  "language_info": {
   "codemirror_mode": {
    "name": "ipython",
    "version": 3
   },
   "file_extension": ".py",
   "mimetype": "text/x-python",
   "name": "python",
   "nbconvert_exporter": "python",
   "pygments_lexer": "ipython3",
   "version": "3.10.9"
  }
 },
 "nbformat": 4,
 "nbformat_minor": 5
}
